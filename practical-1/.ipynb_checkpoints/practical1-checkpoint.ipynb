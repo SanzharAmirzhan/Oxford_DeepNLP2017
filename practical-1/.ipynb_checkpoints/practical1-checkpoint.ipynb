{
 "cells": [
  {
   "cell_type": "markdown",
   "metadata": {
    "deletable": true,
    "editable": true
   },
   "source": [
    "## Practical 1: word2vec\n",
    "<p>Oxford CS - Deep NLP 2017<br>\n",
    "https://www.cs.ox.ac.uk/teaching/courses/2016-2017/dl/</p>\n",
    "<p>[Yannis Assael, Brendan Shillingford, Chris Dyer]</p>"
   ]
  },
  {
   "cell_type": "markdown",
   "metadata": {
    "deletable": true,
    "editable": true
   },
   "source": [
    "This practical is presented as an IPython Notebook, with the code written for recent versions of **Python 3**. The code in this practical will not work with Python 2 unless you modify it. If you are using your own Python installation, ensure you have a setup identical to that described in the installation shell script (which is intended for use with the department lab machines). We will be unable to support installation on personal machines due to time constraints, so please use the lab machines and the setup script if you are unfamiliar with how to install Anaconda.\n",
    "\n",
    "To execute a notebook cell, press `shift-enter`. The return value of the last command will be displayed, if it is not `None`.\n",
    "\n",
    "Potentially useful library documentation, references, and resources:\n",
    "\n",
    "* IPython notebooks: <https://ipython.org/ipython-doc/3/notebook/notebook.html#introduction>\n",
    "* Numpy numerical array library: <https://docs.scipy.org/doc/>\n",
    "* Gensim's word2vec: <https://radimrehurek.com/gensim/models/word2vec.html>\n",
    "* Bokeh interactive plots: <http://bokeh.pydata.org/en/latest/> (we provide plotting code here, but click the thumbnails for more examples to copy-paste)\n",
    "* scikit-learn ML library (aka `sklearn`): <http://scikit-learn.org/stable/documentation.html>\n",
    "* nltk NLP toolkit: <http://www.nltk.org/>\n",
    "* tutorial for processing xml in python using `lxml`: <http://lxml.de/tutorial.html> (we did this for you below, but in case you need it in the future)"
   ]
  },
  {
   "cell_type": "code",
   "execution_count": 1,
   "metadata": {
    "collapsed": false,
    "deletable": true,
    "editable": true
   },
   "outputs": [],
   "source": [
    "import numpy as np\n",
    "import os\n",
    "from random import shuffle\n",
    "import re\n",
    "import tensorflow"
   ]
  },
  {
   "cell_type": "code",
   "execution_count": 2,
   "metadata": {
    "collapsed": false,
    "deletable": true,
    "editable": true
   },
   "outputs": [
    {
     "data": {
      "text/html": [
       "\n",
       "    <div class=\"bk-root\">\n",
       "        <a href=\"http://bokeh.pydata.org\" target=\"_blank\" class=\"bk-logo bk-logo-small bk-logo-notebook\"></a>\n",
       "        <span id=\"181bc7f5-2313-416e-9d28-3e76e4212450\">Loading BokehJS ...</span>\n",
       "    </div>"
      ]
     },
     "metadata": {},
     "output_type": "display_data"
    },
    {
     "data": {
      "application/javascript": [
       "\n",
       "(function(global) {\n",
       "  function now() {\n",
       "    return new Date();\n",
       "  }\n",
       "\n",
       "  var force = true;\n",
       "\n",
       "  if (typeof (window._bokeh_onload_callbacks) === \"undefined\" || force === true) {\n",
       "    window._bokeh_onload_callbacks = [];\n",
       "    window._bokeh_is_loading = undefined;\n",
       "  }\n",
       "\n",
       "\n",
       "  \n",
       "  if (typeof (window._bokeh_timeout) === \"undefined\" || force === true) {\n",
       "    window._bokeh_timeout = Date.now() + 5000;\n",
       "    window._bokeh_failed_load = false;\n",
       "  }\n",
       "\n",
       "  var NB_LOAD_WARNING = {'data': {'text/html':\n",
       "     \"<div style='background-color: #fdd'>\\n\"+\n",
       "     \"<p>\\n\"+\n",
       "     \"BokehJS does not appear to have successfully loaded. If loading BokehJS from CDN, this \\n\"+\n",
       "     \"may be due to a slow or bad network connection. Possible fixes:\\n\"+\n",
       "     \"</p>\\n\"+\n",
       "     \"<ul>\\n\"+\n",
       "     \"<li>re-rerun `output_notebook()` to attempt to load from CDN again, or</li>\\n\"+\n",
       "     \"<li>use INLINE resources instead, as so:</li>\\n\"+\n",
       "     \"</ul>\\n\"+\n",
       "     \"<code>\\n\"+\n",
       "     \"from bokeh.resources import INLINE\\n\"+\n",
       "     \"output_notebook(resources=INLINE)\\n\"+\n",
       "     \"</code>\\n\"+\n",
       "     \"</div>\"}};\n",
       "\n",
       "  function display_loaded() {\n",
       "    if (window.Bokeh !== undefined) {\n",
       "      document.getElementById(\"181bc7f5-2313-416e-9d28-3e76e4212450\").textContent = \"BokehJS successfully loaded.\";\n",
       "    } else if (Date.now() < window._bokeh_timeout) {\n",
       "      setTimeout(display_loaded, 100)\n",
       "    }\n",
       "  }\n",
       "\n",
       "  function run_callbacks() {\n",
       "    window._bokeh_onload_callbacks.forEach(function(callback) { callback() });\n",
       "    delete window._bokeh_onload_callbacks\n",
       "    console.info(\"Bokeh: all callbacks have finished\");\n",
       "  }\n",
       "\n",
       "  function load_libs(js_urls, callback) {\n",
       "    window._bokeh_onload_callbacks.push(callback);\n",
       "    if (window._bokeh_is_loading > 0) {\n",
       "      console.log(\"Bokeh: BokehJS is being loaded, scheduling callback at\", now());\n",
       "      return null;\n",
       "    }\n",
       "    if (js_urls == null || js_urls.length === 0) {\n",
       "      run_callbacks();\n",
       "      return null;\n",
       "    }\n",
       "    console.log(\"Bokeh: BokehJS not loaded, scheduling load and callback at\", now());\n",
       "    window._bokeh_is_loading = js_urls.length;\n",
       "    for (var i = 0; i < js_urls.length; i++) {\n",
       "      var url = js_urls[i];\n",
       "      var s = document.createElement('script');\n",
       "      s.src = url;\n",
       "      s.async = false;\n",
       "      s.onreadystatechange = s.onload = function() {\n",
       "        window._bokeh_is_loading--;\n",
       "        if (window._bokeh_is_loading === 0) {\n",
       "          console.log(\"Bokeh: all BokehJS libraries loaded\");\n",
       "          run_callbacks()\n",
       "        }\n",
       "      };\n",
       "      s.onerror = function() {\n",
       "        console.warn(\"failed to load library \" + url);\n",
       "      };\n",
       "      console.log(\"Bokeh: injecting script tag for BokehJS library: \", url);\n",
       "      document.getElementsByTagName(\"head\")[0].appendChild(s);\n",
       "    }\n",
       "  };var element = document.getElementById(\"181bc7f5-2313-416e-9d28-3e76e4212450\");\n",
       "  if (element == null) {\n",
       "    console.log(\"Bokeh: ERROR: autoload.js configured with elementid '181bc7f5-2313-416e-9d28-3e76e4212450' but no matching script tag was found. \")\n",
       "    return false;\n",
       "  }\n",
       "\n",
       "  var js_urls = [\"https://cdn.pydata.org/bokeh/release/bokeh-0.12.4.min.js\", \"https://cdn.pydata.org/bokeh/release/bokeh-widgets-0.12.4.min.js\"];\n",
       "\n",
       "  var inline_js = [\n",
       "    function(Bokeh) {\n",
       "      Bokeh.set_log_level(\"info\");\n",
       "    },\n",
       "    \n",
       "    function(Bokeh) {\n",
       "      \n",
       "      document.getElementById(\"181bc7f5-2313-416e-9d28-3e76e4212450\").textContent = \"BokehJS is loading...\";\n",
       "    },\n",
       "    function(Bokeh) {\n",
       "      console.log(\"Bokeh: injecting CSS: https://cdn.pydata.org/bokeh/release/bokeh-0.12.4.min.css\");\n",
       "      Bokeh.embed.inject_css(\"https://cdn.pydata.org/bokeh/release/bokeh-0.12.4.min.css\");\n",
       "      console.log(\"Bokeh: injecting CSS: https://cdn.pydata.org/bokeh/release/bokeh-widgets-0.12.4.min.css\");\n",
       "      Bokeh.embed.inject_css(\"https://cdn.pydata.org/bokeh/release/bokeh-widgets-0.12.4.min.css\");\n",
       "    }\n",
       "  ];\n",
       "\n",
       "  function run_inline_js() {\n",
       "    \n",
       "    if ((window.Bokeh !== undefined) || (force === true)) {\n",
       "      for (var i = 0; i < inline_js.length; i++) {\n",
       "        inline_js[i](window.Bokeh);\n",
       "      }if (force === true) {\n",
       "        display_loaded();\n",
       "      }} else if (Date.now() < window._bokeh_timeout) {\n",
       "      setTimeout(run_inline_js, 100);\n",
       "    } else if (!window._bokeh_failed_load) {\n",
       "      console.log(\"Bokeh: BokehJS failed to load within specified timeout.\");\n",
       "      window._bokeh_failed_load = true;\n",
       "    } else if (force !== true) {\n",
       "      var cell = $(document.getElementById(\"181bc7f5-2313-416e-9d28-3e76e4212450\")).parents('.cell').data().cell;\n",
       "      cell.output_area.append_execute_result(NB_LOAD_WARNING)\n",
       "    }\n",
       "\n",
       "  }\n",
       "\n",
       "  if (window._bokeh_is_loading === 0) {\n",
       "    console.log(\"Bokeh: BokehJS loaded, going straight to plotting\");\n",
       "    run_inline_js();\n",
       "  } else {\n",
       "    load_libs(js_urls, function() {\n",
       "      console.log(\"Bokeh: BokehJS plotting callback run at\", now());\n",
       "      run_inline_js();\n",
       "    });\n",
       "  }\n",
       "}(this));"
      ]
     },
     "metadata": {},
     "output_type": "display_data"
    }
   ],
   "source": [
    "from bokeh.models import ColumnDataSource, LabelSet\n",
    "from bokeh.plotting import figure, show, output_file\n",
    "from bokeh.io import output_notebook\n",
    "output_notebook()"
   ]
  },
  {
   "cell_type": "markdown",
   "metadata": {
    "deletable": true,
    "editable": true
   },
   "source": [
    "### Part 0: Download the TED dataset"
   ]
  },
  {
   "cell_type": "code",
   "execution_count": 3,
   "metadata": {
    "collapsed": false,
    "deletable": true,
    "editable": true
   },
   "outputs": [],
   "source": [
    "import urllib.request\n",
    "import zipfile\n",
    "import lxml.etree"
   ]
  },
  {
   "cell_type": "code",
   "execution_count": 4,
   "metadata": {
    "collapsed": false,
    "deletable": true,
    "editable": true
   },
   "outputs": [],
   "source": [
    "# Download the dataset if it's not already there: this may take a minute as it is 75MB\n",
    "if not os.path.isfile('ted_en-20160408.zip'):\n",
    "    urllib.request.urlretrieve(\"https://wit3.fbk.eu/get.php?path=XML_releases/xml/ted_en-20160408.zip&filename=ted_en-20160408.zip\", filename=\"ted_en-20160408.zip\")"
   ]
  },
  {
   "cell_type": "code",
   "execution_count": 5,
   "metadata": {
    "collapsed": true,
    "deletable": true,
    "editable": true
   },
   "outputs": [],
   "source": [
    "# For now, we're only interested in the subtitle text, so let's extract that from the XML:\n",
    "with zipfile.ZipFile('ted_en-20160408.zip', 'r') as z:\n",
    "    doc = lxml.etree.parse(z.open('ted_en-20160408.xml', 'r'))\n",
    "input_text = '\\n'.join(doc.xpath('//content/text()'))\n",
    "del doc"
   ]
  },
  {
   "cell_type": "markdown",
   "metadata": {
    "deletable": true,
    "editable": true
   },
   "source": [
    "### Part 1: Preprocessing\n",
    "\n",
    "In this part, we attempt to clean up the raw subtitles a bit, so that we get only sentences. The following substring shows examples of what we're trying to get rid of. Since it's hard to define precisely what we want to get rid of, we'll just use some simple heuristics."
   ]
  },
  {
   "cell_type": "code",
   "execution_count": 6,
   "metadata": {
    "collapsed": false,
    "deletable": true,
    "editable": true,
    "scrolled": false
   },
   "outputs": [
    {
     "data": {
      "text/plain": [
       "' baby does.\\n(Video) Hyowon Gweon: See this? (Ball squeaks) Did you see that? (Ball squeaks) Cool. See this one? (Ball squeaks) Wow.\\nLaura Schulz: Told you. (Laughs)\\n(Vide'"
      ]
     },
     "execution_count": 6,
     "metadata": {},
     "output_type": "execute_result"
    }
   ],
   "source": [
    "i = input_text.find(\"Hyowon Gweon: See this?\")\n",
    "input_text[i-20:i+150]"
   ]
  },
  {
   "cell_type": "markdown",
   "metadata": {
    "deletable": true,
    "editable": true
   },
   "source": [
    "Let's start by removing all parenthesized strings using a regex:"
   ]
  },
  {
   "cell_type": "code",
   "execution_count": 7,
   "metadata": {
    "collapsed": true,
    "deletable": true,
    "editable": true
   },
   "outputs": [],
   "source": [
    "input_text_noparens = re.sub(r'\\([^)]*\\)', '', input_text)"
   ]
  },
  {
   "cell_type": "markdown",
   "metadata": {
    "deletable": true,
    "editable": true
   },
   "source": [
    "We can verify the same location in the text is now clean as follows. We won't worry about the irregular spaces since we'll later split the text into sentences and tokenize it anyway."
   ]
  },
  {
   "cell_type": "code",
   "execution_count": 8,
   "metadata": {
    "collapsed": false,
    "deletable": true,
    "editable": true
   },
   "outputs": [
    {
     "data": {
      "text/plain": [
       "\"hat the baby does.\\n Hyowon Gweon: See this?  Did you see that?  Cool. See this one?  Wow.\\nLaura Schulz: Told you. \\n HG: See this one?  Hey Clara, this one's for you. You \""
      ]
     },
     "execution_count": 8,
     "metadata": {},
     "output_type": "execute_result"
    }
   ],
   "source": [
    "i = input_text_noparens.find(\"Hyowon Gweon: See this?\")\n",
    "input_text_noparens[i-20:i+150]"
   ]
  },
  {
   "cell_type": "markdown",
   "metadata": {
    "deletable": true,
    "editable": true
   },
   "source": [
    "Now, let's attempt to remove speakers' names that occur at the beginning of a line, by deleting pieces of the form \"`<up to 20 characters>:`\", as shown in this example. Of course, this is an imperfect heuristic. "
   ]
  },
  {
   "cell_type": "code",
   "execution_count": 9,
   "metadata": {
    "collapsed": false,
    "deletable": true,
    "editable": true
   },
   "outputs": [
    {
     "data": {
      "text/plain": [
       "[\"Here are two reasons companies fail: they only do more of the same, or they only do what's new\",\n",
       " 'To me the real, real solution to quality growth is figuring out the balance between two activities: exploration and exploitation',\n",
       " ' Both are necessary, but it can be too much of a good thing',\n",
       " 'Consider Facit',\n",
       " \" I'm actually old enough to remember them\"]"
      ]
     },
     "execution_count": 9,
     "metadata": {},
     "output_type": "execute_result"
    }
   ],
   "source": [
    "sentences_strings_ted = []\n",
    "for line in input_text_noparens.split('\\n'):\n",
    "    m = re.match(r'^(?:(?P<precolon>[^:]{,20}):)?(?P<postcolon>.*)$', line)\n",
    "    sentences_strings_ted.extend(sent for sent in m.groupdict()['postcolon'].split('.') if sent)\n",
    "\n",
    "# Uncomment if you need to save some RAM: these strings are about 50MB.\n",
    "# del input_text, input_text_noparens\n",
    "\n",
    "# Let's view the first few:\n",
    "sentences_strings_ted[:5]"
   ]
  },
  {
   "cell_type": "markdown",
   "metadata": {
    "deletable": true,
    "editable": true
   },
   "source": [
    "Now that we have sentences, we're ready to tokenize each of them into words. This tokenization is imperfect, of course. For instance, how many tokens is \"can't\", and where/how do we split it? We'll take the simplest naive approach of splitting on spaces. Before splitting, we remove non-alphanumeric characters, such as punctuation. You may want to consider the following question: why do we replace these characters with spaces rather than deleting them? Think of a case where this yields a different answer."
   ]
  },
  {
   "cell_type": "code",
   "execution_count": 10,
   "metadata": {
    "collapsed": false,
    "deletable": true,
    "editable": true
   },
   "outputs": [],
   "source": [
    "sentences_ted = []\n",
    "for sent_str in sentences_strings_ted:\n",
    "    tokens = re.sub(r\"[^a-z0-9]+\", \" \", sent_str.lower()).split()\n",
    "    sentences_ted.append(tokens)"
   ]
  },
  {
   "cell_type": "markdown",
   "metadata": {
    "deletable": true,
    "editable": true
   },
   "source": [
    "Two sample processed sentences:"
   ]
  },
  {
   "cell_type": "code",
   "execution_count": 11,
   "metadata": {
    "collapsed": false,
    "deletable": true,
    "editable": true
   },
   "outputs": [
    {
     "data": {
      "text/plain": [
       "266694"
      ]
     },
     "execution_count": 11,
     "metadata": {},
     "output_type": "execute_result"
    }
   ],
   "source": [
    "len(sentences_ted)"
   ]
  },
  {
   "cell_type": "code",
   "execution_count": 12,
   "metadata": {
    "collapsed": false,
    "deletable": true,
    "editable": true
   },
   "outputs": [
    {
     "name": "stdout",
     "output_type": "stream",
     "text": [
      "['here', 'are', 'two', 'reasons', 'companies', 'fail', 'they', 'only', 'do', 'more', 'of', 'the', 'same', 'or', 'they', 'only', 'do', 'what', 's', 'new']\n",
      "['to', 'me', 'the', 'real', 'real', 'solution', 'to', 'quality', 'growth', 'is', 'figuring', 'out', 'the', 'balance', 'between', 'two', 'activities', 'exploration', 'and', 'exploitation']\n"
     ]
    }
   ],
   "source": [
    "print(sentences_ted[0])\n",
    "print(sentences_ted[1])"
   ]
  },
  {
   "cell_type": "markdown",
   "metadata": {
    "deletable": true,
    "editable": true
   },
   "source": [
    "### Part 2: Word Frequencies"
   ]
  },
  {
   "cell_type": "markdown",
   "metadata": {
    "deletable": true,
    "editable": true
   },
   "source": [
    "If you store the counts of the top 1000 words in a list called `counts_ted_top1000`, the code below will plot the histogram requested in the writeup."
   ]
  },
  {
   "cell_type": "code",
   "execution_count": 13,
   "metadata": {
    "collapsed": true,
    "deletable": true,
    "editable": true
   },
   "outputs": [],
   "source": [
    "wordOccurence = {}\n",
    "for sentence in sentences_ted:\n",
    "    for word in sentence:\n",
    "        if(word not in wordOccurence.keys()):\n",
    "            wordOccurence[word] = 0\n",
    "        wordOccurence[word] = wordOccurence[word] + 1\n",
    "del sentence, word"
   ]
  },
  {
   "cell_type": "code",
   "execution_count": 14,
   "metadata": {
    "collapsed": false
   },
   "outputs": [
    {
     "data": {
      "text/plain": [
       "1000"
      ]
     },
     "execution_count": 14,
     "metadata": {},
     "output_type": "execute_result"
    }
   ],
   "source": [
    "import operator\n",
    "wordOccurence = sorted(wordOccurence.items(), key=operator.itemgetter(1), reverse=True)\n",
    "wordOccurence = wordOccurence[:1000]\n",
    "counts_ted_top1000 = [ v[1] for v in wordOccurence]\n",
    "len(counts_ted_top1000)"
   ]
  },
  {
   "cell_type": "markdown",
   "metadata": {
    "deletable": true,
    "editable": true
   },
   "source": [
    "Plot distribution of top-1000 words"
   ]
  },
  {
   "cell_type": "code",
   "execution_count": 15,
   "metadata": {
    "collapsed": false,
    "deletable": true,
    "editable": true
   },
   "outputs": [
    {
     "data": {
      "text/html": [
       "\n",
       "\n",
       "    <div class=\"bk-root\">\n",
       "        <div class=\"bk-plotdiv\" id=\"fdebf900-edec-4abf-b3b5-8b6020ee5588\"></div>\n",
       "    </div>\n",
       "<script type=\"text/javascript\">\n",
       "  \n",
       "  (function(global) {\n",
       "    function now() {\n",
       "      return new Date();\n",
       "    }\n",
       "  \n",
       "    var force = false;\n",
       "  \n",
       "    if (typeof (window._bokeh_onload_callbacks) === \"undefined\" || force === true) {\n",
       "      window._bokeh_onload_callbacks = [];\n",
       "      window._bokeh_is_loading = undefined;\n",
       "    }\n",
       "  \n",
       "  \n",
       "    \n",
       "    if (typeof (window._bokeh_timeout) === \"undefined\" || force === true) {\n",
       "      window._bokeh_timeout = Date.now() + 0;\n",
       "      window._bokeh_failed_load = false;\n",
       "    }\n",
       "  \n",
       "    var NB_LOAD_WARNING = {'data': {'text/html':\n",
       "       \"<div style='background-color: #fdd'>\\n\"+\n",
       "       \"<p>\\n\"+\n",
       "       \"BokehJS does not appear to have successfully loaded. If loading BokehJS from CDN, this \\n\"+\n",
       "       \"may be due to a slow or bad network connection. Possible fixes:\\n\"+\n",
       "       \"</p>\\n\"+\n",
       "       \"<ul>\\n\"+\n",
       "       \"<li>re-rerun `output_notebook()` to attempt to load from CDN again, or</li>\\n\"+\n",
       "       \"<li>use INLINE resources instead, as so:</li>\\n\"+\n",
       "       \"</ul>\\n\"+\n",
       "       \"<code>\\n\"+\n",
       "       \"from bokeh.resources import INLINE\\n\"+\n",
       "       \"output_notebook(resources=INLINE)\\n\"+\n",
       "       \"</code>\\n\"+\n",
       "       \"</div>\"}};\n",
       "  \n",
       "    function display_loaded() {\n",
       "      if (window.Bokeh !== undefined) {\n",
       "        document.getElementById(\"fdebf900-edec-4abf-b3b5-8b6020ee5588\").textContent = \"BokehJS successfully loaded.\";\n",
       "      } else if (Date.now() < window._bokeh_timeout) {\n",
       "        setTimeout(display_loaded, 100)\n",
       "      }\n",
       "    }\n",
       "  \n",
       "    function run_callbacks() {\n",
       "      window._bokeh_onload_callbacks.forEach(function(callback) { callback() });\n",
       "      delete window._bokeh_onload_callbacks\n",
       "      console.info(\"Bokeh: all callbacks have finished\");\n",
       "    }\n",
       "  \n",
       "    function load_libs(js_urls, callback) {\n",
       "      window._bokeh_onload_callbacks.push(callback);\n",
       "      if (window._bokeh_is_loading > 0) {\n",
       "        console.log(\"Bokeh: BokehJS is being loaded, scheduling callback at\", now());\n",
       "        return null;\n",
       "      }\n",
       "      if (js_urls == null || js_urls.length === 0) {\n",
       "        run_callbacks();\n",
       "        return null;\n",
       "      }\n",
       "      console.log(\"Bokeh: BokehJS not loaded, scheduling load and callback at\", now());\n",
       "      window._bokeh_is_loading = js_urls.length;\n",
       "      for (var i = 0; i < js_urls.length; i++) {\n",
       "        var url = js_urls[i];\n",
       "        var s = document.createElement('script');\n",
       "        s.src = url;\n",
       "        s.async = false;\n",
       "        s.onreadystatechange = s.onload = function() {\n",
       "          window._bokeh_is_loading--;\n",
       "          if (window._bokeh_is_loading === 0) {\n",
       "            console.log(\"Bokeh: all BokehJS libraries loaded\");\n",
       "            run_callbacks()\n",
       "          }\n",
       "        };\n",
       "        s.onerror = function() {\n",
       "          console.warn(\"failed to load library \" + url);\n",
       "        };\n",
       "        console.log(\"Bokeh: injecting script tag for BokehJS library: \", url);\n",
       "        document.getElementsByTagName(\"head\")[0].appendChild(s);\n",
       "      }\n",
       "    };var element = document.getElementById(\"fdebf900-edec-4abf-b3b5-8b6020ee5588\");\n",
       "    if (element == null) {\n",
       "      console.log(\"Bokeh: ERROR: autoload.js configured with elementid 'fdebf900-edec-4abf-b3b5-8b6020ee5588' but no matching script tag was found. \")\n",
       "      return false;\n",
       "    }\n",
       "  \n",
       "    var js_urls = [];\n",
       "  \n",
       "    var inline_js = [\n",
       "      function(Bokeh) {\n",
       "        (function() {\n",
       "          var fn = function() {\n",
       "            var docs_json = {\"2165253e-636b-41b8-96f4-175b040937be\":{\"roots\":{\"references\":[{\"attributes\":{},\"id\":\"4fc79d82-0e99-43ad-b047-1ad5b94f7ad8\",\"type\":\"BasicTickFormatter\"},{\"attributes\":{\"active_drag\":\"auto\",\"active_scroll\":\"auto\",\"active_tap\":\"auto\",\"tools\":[{\"id\":\"ce8d3ccb-e5a3-4461-bfe9-91a278da6ce6\",\"type\":\"PanTool\"},{\"id\":\"2ad128c4-a674-4fc0-94ea-c9f1d5ac7bb8\",\"type\":\"WheelZoomTool\"},{\"id\":\"7186f8f3-7749-412c-a686-b49a1db51a0a\",\"type\":\"ResetTool\"},{\"id\":\"ef715b8e-d885-4969-a25c-d8b9415fcde4\",\"type\":\"SaveTool\"}]},\"id\":\"635f2a74-8e9d-4ee5-a6be-267c60973c42\",\"type\":\"Toolbar\"},{\"attributes\":{\"plot\":null,\"text\":\"Top-1000 words distribution\"},\"id\":\"8ca93ae0-b54b-45fa-b2b3-3271f94d4c4e\",\"type\":\"Title\"},{\"attributes\":{\"callback\":null},\"id\":\"4a2bdd2e-b4c6-4e23-9b73-98a769d2411f\",\"type\":\"DataRange1d\"},{\"attributes\":{},\"id\":\"b2d236d3-c944-4107-9357-0972d5950d32\",\"type\":\"ToolEvents\"},{\"attributes\":{\"formatter\":{\"id\":\"e00c7833-0130-4e55-bbb1-2eeafc730789\",\"type\":\"BasicTickFormatter\"},\"plot\":{\"id\":\"5474d5db-6814-4fd8-9c90-4eb273922d6f\",\"subtype\":\"Figure\",\"type\":\"Plot\"},\"ticker\":{\"id\":\"50e37728-5fdd-4182-80a4-4e94bde5d167\",\"type\":\"BasicTicker\"}},\"id\":\"bca0e62c-038b-41af-8775-af2df29034b9\",\"type\":\"LinearAxis\"},{\"attributes\":{\"data_source\":{\"id\":\"6eb618a4-0e97-40c2-9983-2e46b9c644fa\",\"type\":\"ColumnDataSource\"},\"glyph\":{\"id\":\"2d4c056d-80f9-46a0-9dcb-13ae99dbfbce\",\"type\":\"Quad\"},\"hover_glyph\":null,\"nonselection_glyph\":{\"id\":\"92a65600-3b8b-4c81-bb4a-028cfdc648fd\",\"type\":\"Quad\"},\"selection_glyph\":null},\"id\":\"524a4ed3-75bb-4277-8473-36d0490995f2\",\"type\":\"GlyphRenderer\"},{\"attributes\":{\"callback\":null},\"id\":\"3b10944c-131d-48bc-82e9-850047f1416b\",\"type\":\"DataRange1d\"},{\"attributes\":{},\"id\":\"50e37728-5fdd-4182-80a4-4e94bde5d167\",\"type\":\"BasicTicker\"},{\"attributes\":{\"plot\":{\"id\":\"5474d5db-6814-4fd8-9c90-4eb273922d6f\",\"subtype\":\"Figure\",\"type\":\"Plot\"},\"ticker\":{\"id\":\"50e37728-5fdd-4182-80a4-4e94bde5d167\",\"type\":\"BasicTicker\"}},\"id\":\"471b377b-7923-4733-a921-f07006cfd06d\",\"type\":\"Grid\"},{\"attributes\":{\"formatter\":{\"id\":\"4fc79d82-0e99-43ad-b047-1ad5b94f7ad8\",\"type\":\"BasicTickFormatter\"},\"plot\":{\"id\":\"5474d5db-6814-4fd8-9c90-4eb273922d6f\",\"subtype\":\"Figure\",\"type\":\"Plot\"},\"ticker\":{\"id\":\"595905c6-cf87-472a-bdef-20a00d3d4f06\",\"type\":\"BasicTicker\"}},\"id\":\"828777d0-a3f6-480d-8109-0c9321e77af8\",\"type\":\"LinearAxis\"},{\"attributes\":{},\"id\":\"595905c6-cf87-472a-bdef-20a00d3d4f06\",\"type\":\"BasicTicker\"},{\"attributes\":{\"dimension\":1,\"plot\":{\"id\":\"5474d5db-6814-4fd8-9c90-4eb273922d6f\",\"subtype\":\"Figure\",\"type\":\"Plot\"},\"ticker\":{\"id\":\"595905c6-cf87-472a-bdef-20a00d3d4f06\",\"type\":\"BasicTicker\"}},\"id\":\"12a431a5-0b51-4d3c-9600-f932793848b1\",\"type\":\"Grid\"},{\"attributes\":{\"plot\":{\"id\":\"5474d5db-6814-4fd8-9c90-4eb273922d6f\",\"subtype\":\"Figure\",\"type\":\"Plot\"}},\"id\":\"ce8d3ccb-e5a3-4461-bfe9-91a278da6ce6\",\"type\":\"PanTool\"},{\"attributes\":{\"plot\":{\"id\":\"5474d5db-6814-4fd8-9c90-4eb273922d6f\",\"subtype\":\"Figure\",\"type\":\"Plot\"}},\"id\":\"2ad128c4-a674-4fc0-94ea-c9f1d5ac7bb8\",\"type\":\"WheelZoomTool\"},{\"attributes\":{\"below\":[{\"id\":\"bca0e62c-038b-41af-8775-af2df29034b9\",\"type\":\"LinearAxis\"}],\"left\":[{\"id\":\"828777d0-a3f6-480d-8109-0c9321e77af8\",\"type\":\"LinearAxis\"}],\"renderers\":[{\"id\":\"bca0e62c-038b-41af-8775-af2df29034b9\",\"type\":\"LinearAxis\"},{\"id\":\"471b377b-7923-4733-a921-f07006cfd06d\",\"type\":\"Grid\"},{\"id\":\"828777d0-a3f6-480d-8109-0c9321e77af8\",\"type\":\"LinearAxis\"},{\"id\":\"12a431a5-0b51-4d3c-9600-f932793848b1\",\"type\":\"Grid\"},{\"id\":\"524a4ed3-75bb-4277-8473-36d0490995f2\",\"type\":\"GlyphRenderer\"}],\"title\":{\"id\":\"8ca93ae0-b54b-45fa-b2b3-3271f94d4c4e\",\"type\":\"Title\"},\"tool_events\":{\"id\":\"b2d236d3-c944-4107-9357-0972d5950d32\",\"type\":\"ToolEvents\"},\"toolbar\":{\"id\":\"635f2a74-8e9d-4ee5-a6be-267c60973c42\",\"type\":\"Toolbar\"},\"toolbar_location\":\"above\",\"x_range\":{\"id\":\"4a2bdd2e-b4c6-4e23-9b73-98a769d2411f\",\"type\":\"DataRange1d\"},\"y_range\":{\"id\":\"3b10944c-131d-48bc-82e9-850047f1416b\",\"type\":\"DataRange1d\"}},\"id\":\"5474d5db-6814-4fd8-9c90-4eb273922d6f\",\"subtype\":\"Figure\",\"type\":\"Plot\"},{\"attributes\":{\"plot\":{\"id\":\"5474d5db-6814-4fd8-9c90-4eb273922d6f\",\"subtype\":\"Figure\",\"type\":\"Plot\"}},\"id\":\"7186f8f3-7749-412c-a686-b49a1db51a0a\",\"type\":\"ResetTool\"},{\"attributes\":{\"plot\":{\"id\":\"5474d5db-6814-4fd8-9c90-4eb273922d6f\",\"subtype\":\"Figure\",\"type\":\"Plot\"}},\"id\":\"ef715b8e-d885-4969-a25c-d8b9415fcde4\",\"type\":\"SaveTool\"},{\"attributes\":{},\"id\":\"e00c7833-0130-4e55-bbb1-2eeafc730789\",\"type\":\"BasicTickFormatter\"},{\"attributes\":{\"bottom\":{\"value\":0},\"fill_color\":{\"value\":\"#1f77b4\"},\"left\":{\"field\":\"left\"},\"line_color\":{\"value\":\"#555555\"},\"right\":{\"field\":\"right\"},\"top\":{\"field\":\"top\"}},\"id\":\"2d4c056d-80f9-46a0-9dcb-13ae99dbfbce\",\"type\":\"Quad\"},{\"attributes\":{\"bottom\":{\"value\":0},\"fill_alpha\":{\"value\":0.1},\"fill_color\":{\"value\":\"#1f77b4\"},\"left\":{\"field\":\"left\"},\"line_alpha\":{\"value\":0.1},\"line_color\":{\"value\":\"#1f77b4\"},\"right\":{\"field\":\"right\"},\"top\":{\"field\":\"top\"}},\"id\":\"92a65600-3b8b-4c81-bb4a-028cfdc648fd\",\"type\":\"Quad\"},{\"attributes\":{\"callback\":null,\"column_names\":[\"left\",\"right\",\"top\"],\"data\":{\"left\":{\"__ndarray__\":\"AAAAAABAeUB7FK5H4VqjQHsUrkfhxrFAuB6F61HguUB7FK5H4fzAQJqZmZmZCcVAuB6F61EWyUDXo3A9CiPNQHsUrkfhl9BACtejcD2e0kCamZmZmaTUQClcj8L1qtZAuB6F61Gx2EBI4XoUrrfaQNejcD0KvtxAZ2ZmZmbE3kB7FK5HYWXgQMP1KFyPaOFACtejcL1r4kBSuB6F627jQJqZmZkZcuRA4XoUrkd15UApXI/CdXjmQHE9Cteje+dAuB6F69F+6EAAAAAAAILpQEjhehQuhepAkML1KFyI60DXo3A9iovsQB+F61G4ju1AZ2ZmZuaR7kCuR+F6FJXvQHsUrkchTPBAH4XrUbjN8EDD9ShcT0/xQGdmZmbm0PFACtejcH1S8kCuR+F6FNTyQFK4HoWrVfNA9ihcj0LX80CamZmZ2Vj0QD4K16Nw2vRA4XoUrgdc9UCF61G4nt31QClcj8I1X/ZAzczMzMzg9kBxPQrXY2L3QBWuR+H64/dAuB6F65Fl+EBcj8L1KOf4QAAAAADAaPlApHA9Clfq+UBI4XoU7mv6QOxRuB6F7fpAkML1KBxv+0AzMzMzs/D7QNejcD1KcvxAexSuR+Hz/EAfhetReHX9QMP1KFwP9/1AZ2ZmZqZ4/kAK16NwPfr+QK5H4XrUe/9AUrgehWv9/0B7FK5HgT8AQc3MzMxMgABBH4XrURjBAEFxPQrX4wEBQcP1KFyvQgFBFa5H4XqDAUFnZmZmRsQBQbgehesRBQJBCtejcN1FAkFcj8L1qIYCQa5H4Xp0xwJBAAAAAEAIA0FSuB6FC0kDQaRwPQrXiQNB9ihcj6LKA0FI4XoUbgsEQZqZmZk5TARB7FG4HgWNBEE+Ctej0M0EQZDC9SicDgVB4XoUrmdPBUEzMzMzM5AFQYXrUbj+0AVB16NwPcoRBkEpXI/ClVIGQXsUrkdhkwZBzczMzCzUBkEfhetR+BQHQXE9CtfDVQdBw/UoXI+WB0EVrkfhWtcHQWdmZmYmGAhBuB6F6/FYCEEK16NwvZkIQVyPwvWI2ghBrkfhelQbCUE=\",\"dtype\":\"float64\",\"shape\":[100]},\"right\":{\"__ndarray__\":\"exSuR+Fao0B7FK5H4caxQLgehetR4LlAexSuR+H8wECamZmZmQnFQLgehetRFslA16NwPQojzUB7FK5H4ZfQQArXo3A9ntJAmpmZmZmk1EApXI/C9arWQLgehetRsdhASOF6FK632kDXo3A9Cr7cQGdmZmZmxN5AexSuR2Fl4EDD9Shcj2jhQArXo3C9a+JAUrgehetu40CamZmZGXLkQOF6FK5HdeVAKVyPwnV45kBxPQrXo3vnQLgehevRfuhAAAAAAACC6UBI4XoULoXqQJDC9ShciOtA16NwPYqL7EAfhetRuI7tQGdmZmbmke5ArkfhehSV70B7FK5HIUzwQB+F61G4zfBAw/UoXE9P8UBnZmZm5tDxQArXo3B9UvJArkfhehTU8kBSuB6Fq1XzQPYoXI9C1/NAmpmZmdlY9EA+CtejcNr0QOF6FK4HXPVAhetRuJ7d9UApXI/CNV/2QM3MzMzM4PZAcT0K12Ni90AVrkfh+uP3QLgeheuRZfhAXI/C9Sjn+EAAAAAAwGj5QKRwPQpX6vlASOF6FO5r+kDsUbgehe36QJDC9Sgcb/tAMzMzM7Pw+0DXo3A9SnL8QHsUrkfh8/xAH4XrUXh1/UDD9ShcD/f9QGdmZmameP5ACtejcD36/kCuR+F61Hv/QFK4HoVr/f9AexSuR4E/AEHNzMzMTIAAQR+F61EYwQBBcT0K1+MBAUHD9Shcr0IBQRWuR+F6gwFBZ2ZmZkbEAUG4HoXrEQUCQQrXo3DdRQJBXI/C9aiGAkGuR+F6dMcCQQAAAABACANBUrgehQtJA0GkcD0K14kDQfYoXI+iygNBSOF6FG4LBEGamZmZOUwEQexRuB4FjQRBPgrXo9DNBEGQwvUonA4FQeF6FK5nTwVBMzMzMzOQBUGF61G4/tAFQdejcD3KEQZBKVyPwpVSBkF7FK5HYZMGQc3MzMws1AZBH4XrUfgUB0FxPQrXw1UHQcP1KFyPlgdBFa5H4VrXB0FnZmZmJhgIQbgehevxWAhBCtejcL2ZCEFcj8L1iNoIQa5H4XpUGwlBAAAAACBcCUE=\",\"dtype\":\"float64\",\"shape\":[100]},\"top\":{\"__ndarray__\":\"50H1zNSBOT/ypb1tgHIBPwsriUb5Uew+zuTFiLI04j78kGUPxTHhPh40R25oQNY+zuTFiLI00j4pPQWW1y7APsTbB2FDRsg+JT0FltcuwD4tPQWW1y6wPi09BZbXLrA+JT0FltcuwD4tPQWW1y6gPiU9BZbXLrA+LT0FltcuoD4AAAAAAAAAADU9BZbXLqA+AAAAAAAAAAAAAAAAAAAAAAAAAAAAAAAAAAAAAAAAAAAAAAAAAAAAADU9BZbXLqA+AAAAAAAAAAAAAAAAAAAAAAAAAAAAAAAANT0FltcuoD4AAAAAAAAAAAAAAAAAAAAANT0FltcuoD4AAAAAAAAAACU9BZbXLqA+AAAAAAAAAAAlPQWW1y6gPkU9BZbXLqA+AAAAAAAAAAAlPQWW1y6gPgAAAAAAAAAAJT0FltcuoD4AAAAAAAAAAAAAAAAAAAAAAAAAAAAAAAAAAAAAAAAAAAAAAAAAAAAAJT0FltcuoD4AAAAAAAAAAAAAAAAAAAAAAAAAAAAAAAAAAAAAAAAAACU9BZbXLqA+AAAAAAAAAAAAAAAAAAAAAAAAAAAAAAAAAAAAAAAAAAAlPQWW1y6gPgAAAAAAAAAAAAAAAAAAAAAAAAAAAAAAAAAAAAAAAAAART0FltcuoD4AAAAAAAAAAAAAAAAAAAAAAAAAAAAAAAAAAAAAAAAAAAAAAAAAAAAAAAAAAAAAAAAAAAAAAAAAAAAAAAAAAAAAAAAAAAAAAAAAAAAAAAAAACU9BZbXLqA+AAAAAAAAAAAAAAAAAAAAAAAAAAAAAAAAAAAAAAAAAAAAAAAAAAAAAAAAAAAAAAAAAAAAAAAAAAAAAAAAAAAAAAAAAAAAAAAAAAAAAAAAAAAAAAAAAAAAAAAAAAAAAAAAAAAAAAAAAAAAAAAAAAAAAAAAAAAAAAAAAAAAAAAAAAAAAAAAAAAAAAAAAAAAAAAAAAAAAAAAAAAAAAAAAAAAAAAAAAAAAAAAAAAAAAAAAAAAAAAAAAAAAAAAAAAAAAAAAAAAAAAAAAAAAAAAAAAAAAAAAAAAAAAAJT0FltcuoD4=\",\"dtype\":\"float64\",\"shape\":[100]}}},\"id\":\"6eb618a4-0e97-40c2-9983-2e46b9c644fa\",\"type\":\"ColumnDataSource\"}],\"root_ids\":[\"5474d5db-6814-4fd8-9c90-4eb273922d6f\"]},\"title\":\"Bokeh Application\",\"version\":\"0.12.4\"}};\n",
       "            var render_items = [{\"docid\":\"2165253e-636b-41b8-96f4-175b040937be\",\"elementid\":\"fdebf900-edec-4abf-b3b5-8b6020ee5588\",\"modelid\":\"5474d5db-6814-4fd8-9c90-4eb273922d6f\"}];\n",
       "            \n",
       "            Bokeh.embed.embed_items(docs_json, render_items);\n",
       "          };\n",
       "          if (document.readyState != \"loading\") fn();\n",
       "          else document.addEventListener(\"DOMContentLoaded\", fn);\n",
       "        })();\n",
       "      },\n",
       "      function(Bokeh) {\n",
       "      }\n",
       "    ];\n",
       "  \n",
       "    function run_inline_js() {\n",
       "      \n",
       "      if ((window.Bokeh !== undefined) || (force === true)) {\n",
       "        for (var i = 0; i < inline_js.length; i++) {\n",
       "          inline_js[i](window.Bokeh);\n",
       "        }if (force === true) {\n",
       "          display_loaded();\n",
       "        }} else if (Date.now() < window._bokeh_timeout) {\n",
       "        setTimeout(run_inline_js, 100);\n",
       "      } else if (!window._bokeh_failed_load) {\n",
       "        console.log(\"Bokeh: BokehJS failed to load within specified timeout.\");\n",
       "        window._bokeh_failed_load = true;\n",
       "      } else if (force !== true) {\n",
       "        var cell = $(document.getElementById(\"fdebf900-edec-4abf-b3b5-8b6020ee5588\")).parents('.cell').data().cell;\n",
       "        cell.output_area.append_execute_result(NB_LOAD_WARNING)\n",
       "      }\n",
       "  \n",
       "    }\n",
       "  \n",
       "    if (window._bokeh_is_loading === 0) {\n",
       "      console.log(\"Bokeh: BokehJS loaded, going straight to plotting\");\n",
       "      run_inline_js();\n",
       "    } else {\n",
       "      load_libs(js_urls, function() {\n",
       "        console.log(\"Bokeh: BokehJS plotting callback run at\", now());\n",
       "        run_inline_js();\n",
       "      });\n",
       "    }\n",
       "  }(this));\n",
       "</script>"
      ]
     },
     "metadata": {},
     "output_type": "display_data"
    }
   ],
   "source": [
    "hist, edges = np.histogram(counts_ted_top1000, density=True, bins=100, normed=True)\n",
    "\n",
    "p = figure(tools=\"pan,wheel_zoom,reset,save\",\n",
    "           toolbar_location=\"above\",\n",
    "           title=\"Top-1000 words distribution\")\n",
    "p.quad(top=hist, bottom=0, left=edges[:-1], right=edges[1:], line_color=\"#555555\")\n",
    "show(p)"
   ]
  },
  {
   "cell_type": "markdown",
   "metadata": {
    "deletable": true,
    "editable": true
   },
   "source": [
    "### Part 3: Train Word2Vec"
   ]
  },
  {
   "cell_type": "code",
   "execution_count": 16,
   "metadata": {
    "collapsed": false,
    "deletable": true,
    "editable": true
   },
   "outputs": [],
   "source": [
    "from gensim.models import Word2Vec"
   ]
  },
  {
   "cell_type": "code",
   "execution_count": 17,
   "metadata": {
    "collapsed": true
   },
   "outputs": [],
   "source": [
    "model_ted = Word2Vec(sentences_ted, min_count=10)"
   ]
  },
  {
   "cell_type": "code",
   "execution_count": 18,
   "metadata": {
    "collapsed": false
   },
   "outputs": [
    {
     "data": {
      "text/plain": [
       "14427"
      ]
     },
     "execution_count": 18,
     "metadata": {},
     "output_type": "execute_result"
    }
   ],
   "source": [
    "len(model_ted.wv.vocab)"
   ]
  },
  {
   "cell_type": "markdown",
   "metadata": {
    "deletable": true,
    "editable": true
   },
   "source": [
    "### Part 4: Ted Learnt Representations"
   ]
  },
  {
   "cell_type": "markdown",
   "metadata": {
    "deletable": true,
    "editable": true
   },
   "source": [
    "Finding similar words: (see gensim docs for more functionality of `most_similar`)"
   ]
  },
  {
   "cell_type": "code",
   "execution_count": 19,
   "metadata": {
    "collapsed": false,
    "deletable": true,
    "editable": true
   },
   "outputs": [
    {
     "data": {
      "text/plain": [
       "[('woman', 0.8467353582382202),\n",
       " ('guy', 0.7917073965072632),\n",
       " ('lady', 0.7537833452224731),\n",
       " ('boy', 0.7280608415603638),\n",
       " ('girl', 0.7215093374252319),\n",
       " ('soldier', 0.7173420786857605),\n",
       " ('gentleman', 0.7116812467575073),\n",
       " ('kid', 0.682631254196167),\n",
       " ('david', 0.669106125831604),\n",
       " ('poet', 0.6601779460906982)]"
      ]
     },
     "execution_count": 19,
     "metadata": {},
     "output_type": "execute_result"
    }
   ],
   "source": [
    "model_ted.most_similar(\"man\")"
   ]
  },
  {
   "cell_type": "code",
   "execution_count": 20,
   "metadata": {
    "collapsed": false,
    "deletable": true,
    "editable": true
   },
   "outputs": [
    {
     "data": {
      "text/plain": [
       "[('software', 0.7345312833786011),\n",
       " ('machine', 0.719028115272522),\n",
       " ('device', 0.6919218301773071),\n",
       " ('robot', 0.6901532411575317),\n",
       " ('program', 0.6608850955963135),\n",
       " ('video', 0.6549755930900574),\n",
       " ('3d', 0.6485757827758789),\n",
       " ('printer', 0.6453878879547119),\n",
       " ('interface', 0.637450098991394),\n",
       " ('chip', 0.6371634006500244)]"
      ]
     },
     "execution_count": 20,
     "metadata": {},
     "output_type": "execute_result"
    }
   ],
   "source": [
    "model_ted.most_similar(\"computer\")"
   ]
  },
  {
   "cell_type": "markdown",
   "metadata": {
    "deletable": true,
    "editable": true
   },
   "source": [
    "#### t-SNE visualization\n",
    "To use the t-SNE code below, first put a list of the top 1000 words (as strings) into a variable `words_top_ted`. The following code gets the corresponding vectors from the model, assuming it's called `model_ted`:"
   ]
  },
  {
   "cell_type": "code",
   "execution_count": 21,
   "metadata": {
    "collapsed": false
   },
   "outputs": [],
   "source": [
    "words_top_ted = [ v[0] for v in wordOccurence]"
   ]
  },
  {
   "cell_type": "code",
   "execution_count": 22,
   "metadata": {
    "collapsed": false,
    "deletable": true,
    "editable": true
   },
   "outputs": [],
   "source": [
    "# This assumes words_top_ted is a list of strings, the top 1000 words\n",
    "words_top_vec_ted = model_ted[words_top_ted]"
   ]
  },
  {
   "cell_type": "code",
   "execution_count": 23,
   "metadata": {
    "collapsed": false,
    "deletable": true,
    "editable": true
   },
   "outputs": [],
   "source": [
    "from sklearn.manifold import TSNE\n",
    "tsne = TSNE(n_components=2, random_state=0)\n",
    "words_top_ted_tsne = tsne.fit_transform(words_top_vec_ted)"
   ]
  },
  {
   "cell_type": "code",
   "execution_count": 24,
   "metadata": {
    "collapsed": false,
    "deletable": true,
    "editable": true
   },
   "outputs": [
    {
     "data": {
      "text/html": [
       "\n",
       "\n",
       "    <div class=\"bk-root\">\n",
       "        <div class=\"bk-plotdiv\" id=\"24df2076-3896-424e-98b0-6f70f1e6069f\"></div>\n",
       "    </div>\n",
       "<script type=\"text/javascript\">\n",
       "  \n",
       "  (function(global) {\n",
       "    function now() {\n",
       "      return new Date();\n",
       "    }\n",
       "  \n",
       "    var force = false;\n",
       "  \n",
       "    if (typeof (window._bokeh_onload_callbacks) === \"undefined\" || force === true) {\n",
       "      window._bokeh_onload_callbacks = [];\n",
       "      window._bokeh_is_loading = undefined;\n",
       "    }\n",
       "  \n",
       "  \n",
       "    \n",
       "    if (typeof (window._bokeh_timeout) === \"undefined\" || force === true) {\n",
       "      window._bokeh_timeout = Date.now() + 0;\n",
       "      window._bokeh_failed_load = false;\n",
       "    }\n",
       "  \n",
       "    var NB_LOAD_WARNING = {'data': {'text/html':\n",
       "       \"<div style='background-color: #fdd'>\\n\"+\n",
       "       \"<p>\\n\"+\n",
       "       \"BokehJS does not appear to have successfully loaded. If loading BokehJS from CDN, this \\n\"+\n",
       "       \"may be due to a slow or bad network connection. Possible fixes:\\n\"+\n",
       "       \"</p>\\n\"+\n",
       "       \"<ul>\\n\"+\n",
       "       \"<li>re-rerun `output_notebook()` to attempt to load from CDN again, or</li>\\n\"+\n",
       "       \"<li>use INLINE resources instead, as so:</li>\\n\"+\n",
       "       \"</ul>\\n\"+\n",
       "       \"<code>\\n\"+\n",
       "       \"from bokeh.resources import INLINE\\n\"+\n",
       "       \"output_notebook(resources=INLINE)\\n\"+\n",
       "       \"</code>\\n\"+\n",
       "       \"</div>\"}};\n",
       "  \n",
       "    function display_loaded() {\n",
       "      if (window.Bokeh !== undefined) {\n",
       "        document.getElementById(\"24df2076-3896-424e-98b0-6f70f1e6069f\").textContent = \"BokehJS successfully loaded.\";\n",
       "      } else if (Date.now() < window._bokeh_timeout) {\n",
       "        setTimeout(display_loaded, 100)\n",
       "      }\n",
       "    }\n",
       "  \n",
       "    function run_callbacks() {\n",
       "      window._bokeh_onload_callbacks.forEach(function(callback) { callback() });\n",
       "      delete window._bokeh_onload_callbacks\n",
       "      console.info(\"Bokeh: all callbacks have finished\");\n",
       "    }\n",
       "  \n",
       "    function load_libs(js_urls, callback) {\n",
       "      window._bokeh_onload_callbacks.push(callback);\n",
       "      if (window._bokeh_is_loading > 0) {\n",
       "        console.log(\"Bokeh: BokehJS is being loaded, scheduling callback at\", now());\n",
       "        return null;\n",
       "      }\n",
       "      if (js_urls == null || js_urls.length === 0) {\n",
       "        run_callbacks();\n",
       "        return null;\n",
       "      }\n",
       "      console.log(\"Bokeh: BokehJS not loaded, scheduling load and callback at\", now());\n",
       "      window._bokeh_is_loading = js_urls.length;\n",
       "      for (var i = 0; i < js_urls.length; i++) {\n",
       "        var url = js_urls[i];\n",
       "        var s = document.createElement('script');\n",
       "        s.src = url;\n",
       "        s.async = false;\n",
       "        s.onreadystatechange = s.onload = function() {\n",
       "          window._bokeh_is_loading--;\n",
       "          if (window._bokeh_is_loading === 0) {\n",
       "            console.log(\"Bokeh: all BokehJS libraries loaded\");\n",
       "            run_callbacks()\n",
       "          }\n",
       "        };\n",
       "        s.onerror = function() {\n",
       "          console.warn(\"failed to load library \" + url);\n",
       "        };\n",
       "        console.log(\"Bokeh: injecting script tag for BokehJS library: \", url);\n",
       "        document.getElementsByTagName(\"head\")[0].appendChild(s);\n",
       "      }\n",
       "    };var element = document.getElementById(\"24df2076-3896-424e-98b0-6f70f1e6069f\");\n",
       "    if (element == null) {\n",
       "      console.log(\"Bokeh: ERROR: autoload.js configured with elementid '24df2076-3896-424e-98b0-6f70f1e6069f' but no matching script tag was found. \")\n",
       "      return false;\n",
       "    }\n",
       "  \n",
       "    var js_urls = [];\n",
       "  \n",
       "    var inline_js = [\n",
       "      function(Bokeh) {\n",
       "        (function() {\n",
       "          var fn = function() {\n",
       "            var docs_json = {\"05f97949-b533-4eb7-bfe4-78bf9ea3391a\":{\"roots\":{\"references\":[{\"attributes\":{\"plot\":{\"id\":\"05eb0302-a198-4c4d-9ec0-7c74b176ed81\",\"subtype\":\"Figure\",\"type\":\"Plot\"},\"source\":{\"id\":\"ee4d3d7d-e160-496a-a2c4-e0a5cf2680c6\",\"type\":\"ColumnDataSource\"},\"text\":{\"field\":\"names\"},\"text_align\":\"center\",\"text_color\":{\"value\":\"#555555\"},\"text_font_size\":{\"value\":\"8pt\"},\"x\":{\"field\":\"x1\"},\"y\":{\"field\":\"x2\"},\"y_offset\":{\"value\":6}},\"id\":\"6267895b-0e9d-473a-8130-f5eeac960293\",\"type\":\"LabelSet\"},{\"attributes\":{\"below\":[{\"id\":\"d5a9ba9e-6bdd-4be7-8289-fd430a6a95fa\",\"type\":\"LinearAxis\"}],\"left\":[{\"id\":\"d04c83f2-a5bf-489b-8a37-9386dc7f9227\",\"type\":\"LinearAxis\"}],\"renderers\":[{\"id\":\"d5a9ba9e-6bdd-4be7-8289-fd430a6a95fa\",\"type\":\"LinearAxis\"},{\"id\":\"c12e4656-cf7c-4faa-858f-55e40ef05678\",\"type\":\"Grid\"},{\"id\":\"d04c83f2-a5bf-489b-8a37-9386dc7f9227\",\"type\":\"LinearAxis\"},{\"id\":\"d3702c38-e89c-4012-8ad4-08f24000bb4e\",\"type\":\"Grid\"},{\"id\":\"40f24ac0-5898-4fdc-b81b-a63f78e039d0\",\"type\":\"GlyphRenderer\"},{\"id\":\"6267895b-0e9d-473a-8130-f5eeac960293\",\"type\":\"LabelSet\"}],\"title\":{\"id\":\"4d794765-6333-4234-93b1-8efafd92a161\",\"type\":\"Title\"},\"tool_events\":{\"id\":\"fd2477e3-5ac1-422b-9c89-dae105e7bc58\",\"type\":\"ToolEvents\"},\"toolbar\":{\"id\":\"d9d373a6-0fd5-4e87-9b56-3c58775d9aaf\",\"type\":\"Toolbar\"},\"toolbar_location\":\"above\",\"x_range\":{\"id\":\"b78e98f2-8772-4671-aa09-cef77c684c04\",\"type\":\"DataRange1d\"},\"y_range\":{\"id\":\"5b308556-767b-4791-a3ea-0707e1e4f170\",\"type\":\"DataRange1d\"}},\"id\":\"05eb0302-a198-4c4d-9ec0-7c74b176ed81\",\"subtype\":\"Figure\",\"type\":\"Plot\"},{\"attributes\":{\"callback\":null,\"column_names\":[\"x1\",\"x2\",\"names\"],\"data\":{\"names\":[\"the\",\"and\",\"to\",\"of\",\"a\",\"that\",\"i\",\"in\",\"it\",\"you\",\"we\",\"is\",\"s\",\"this\",\"so\",\"they\",\"was\",\"for\",\"are\",\"have\",\"but\",\"what\",\"on\",\"with\",\"can\",\"t\",\"about\",\"there\",\"be\",\"as\",\"at\",\"all\",\"not\",\"do\",\"my\",\"one\",\"re\",\"people\",\"like\",\"if\",\"from\",\"now\",\"our\",\"he\",\"an\",\"just\",\"these\",\"or\",\"when\",\"because\",\"very\",\"me\",\"out\",\"by\",\"them\",\"how\",\"know\",\"up\",\"going\",\"had\",\"more\",\"think\",\"who\",\"were\",\"see\",\"your\",\"their\",\"which\",\"would\",\"here\",\"really\",\"get\",\"ve\",\"then\",\"m\",\"world\",\"us\",\"time\",\"some\",\"has\",\"don\",\"actually\",\"into\",\"way\",\"where\",\"will\",\"years\",\"things\",\"other\",\"no\",\"could\",\"go\",\"well\",\"want\",\"been\",\"make\",\"right\",\"she\",\"said\",\"something\",\"those\",\"first\",\"two\",\"than\",\"much\",\"also\",\"look\",\"new\",\"thing\",\"little\",\"got\",\"back\",\"over\",\"most\",\"say\",\"even\",\"his\",\"life\",\"only\",\"work\",\"many\",\"take\",\"need\",\"did\",\"lot\",\"kind\",\"why\",\"good\",\"around\",\"every\",\"different\",\"down\",\"ll\",\"let\",\"her\",\"through\",\"same\",\"being\",\"come\",\"d\",\"day\",\"year\",\"three\",\"use\",\"doing\",\"put\",\"called\",\"any\",\"today\",\"percent\",\"made\",\"after\",\"thank\",\"tell\",\"great\",\"human\",\"find\",\"didn\",\"fact\",\"talk\",\"change\",\"started\",\"another\",\"idea\",\"big\",\"last\",\"own\",\"before\",\"its\",\"never\",\"should\",\"better\",\"give\",\"thought\",\"went\",\"might\",\"important\",\"000\",\"again\",\"able\",\"together\",\"still\",\"problem\",\"off\",\"next\",\"part\",\"course\",\"system\",\"him\",\"does\",\"each\",\"start\",\"show\",\"long\",\"ago\",\"story\",\"came\",\"brain\",\"few\",\"bit\",\"between\",\"used\",\"place\",\"technology\",\"women\",\"too\",\"old\",\"mean\",\"data\",\"water\",\"looking\",\"question\",\"maybe\",\"found\",\"love\",\"doesn\",\"end\",\"example\",\"10\",\"done\",\"point\",\"four\",\"real\",\"wanted\",\"ever\",\"school\",\"understand\",\"sort\",\"live\",\"call\",\"whole\",\"children\",\"always\",\"trying\",\"may\",\"person\",\"away\",\"believe\",\"feel\",\"try\",\"million\",\"working\",\"help\",\"everything\",\"five\",\"country\",\"thinking\",\"second\",\"using\",\"information\",\"money\",\"means\",\"power\",\"took\",\"times\",\"high\",\"space\",\"number\",\"kids\",\"home\",\"become\",\"create\",\"small\",\"design\",\"making\",\"best\",\"left\",\"getting\",\"future\",\"enough\",\"man\",\"quite\",\"city\",\"without\",\"sense\",\"happened\",\"comes\",\"social\",\"probably\",\"less\",\"light\",\"talking\",\"energy\",\"am\",\"building\",\"science\",\"food\",\"body\",\"told\",\"interesting\",\"ask\",\"half\",\"pretty\",\"hard\",\"play\",\"anything\",\"lives\",\"countries\",\"coming\",\"such\",\"family\",\"stuff\",\"dollars\",\"earth\",\"moment\",\"20\",\"imagine\",\"across\",\"side\",\"while\",\"saw\",\"happen\",\"once\",\"okay\",\"build\",\"having\",\"men\",\"later\",\"experience\",\"makes\",\"asked\",\"living\",\"seen\",\"says\",\"room\",\"hand\",\"simple\",\"health\",\"ways\",\"else\",\"case\",\"yet\",\"almost\",\"young\",\"days\",\"nothing\",\"care\",\"bad\",\"happens\",\"goes\",\"move\",\"states\",\"reason\",\"computer\",\"open\",\"learn\",\"africa\",\"process\",\"inside\",\"someone\",\"six\",\"far\",\"mind\",\"project\",\"remember\",\"single\",\"picture\",\"both\",\"whether\",\"problems\",\"saying\",\"community\",\"basically\",\"already\",\"within\",\"looked\",\"myself\",\"billion\",\"often\",\"possible\",\"business\",\"planet\",\"global\",\"everybody\",\"top\",\"sure\",\"public\",\"set\",\"wrong\",\"car\",\"book\",\"keep\",\"yes\",\"answer\",\"oh\",\"hope\",\"sometimes\",\"true\",\"history\",\"war\",\"guy\",\"child\",\"instead\",\"months\",\"ideas\",\"looks\",\"matter\",\"government\",\"amazing\",\"united\",\"since\",\"bring\",\"age\",\"cells\",\"job\",\"heard\",\"until\",\"face\",\"wasn\",\"100\",\"read\",\"control\",\"isn\",\"research\",\"30\",\"words\",\"u\",\"group\",\"under\",\"self\",\"somebody\",\"built\",\"state\",\"woman\",\"turn\",\"friends\",\"beautiful\",\"line\",\"knew\",\"couple\",\"order\",\"form\",\"yeah\",\"internet\",\"middle\",\"music\",\"piece\",\"nature\",\"head\",\"though\",\"stop\",\"everyone\",\"50\",\"places\",\"video\",\"learned\",\"language\",\"run\",\"night\",\"decided\",\"study\",\"word\",\"cancer\",\"taking\",\"works\",\"became\",\"exactly\",\"species\",\"society\",\"completely\",\"education\",\"against\",\"stories\",\"large\",\"share\",\"level\",\"heart\",\"america\",\"model\",\"questions\",\"gets\",\"mother\",\"god\",\"company\",\"turns\",\"ourselves\",\"happening\",\"hear\",\"art\",\"themselves\",\"must\",\"itself\",\"rather\",\"kinds\",\"students\",\"name\",\"hours\",\"disease\",\"front\",\"house\",\"huge\",\"couldn\",\"created\",\"universe\",\"ok\",\"animals\",\"american\",\"environment\",\"worked\",\"minutes\",\"ones\",\"black\",\"perhaps\",\"1\",\"past\",\"third\",\"along\",\"others\",\"finally\",\"sound\",\"early\",\"game\",\"thousands\",\"century\",\"based\",\"least\",\"per\",\"ted\",\"lots\",\"figure\",\"free\",\"guys\",\"particular\",\"happy\",\"news\",\"learning\",\"entire\",\"won\",\"gave\",\"machine\",\"india\",\"during\",\"systems\",\"air\",\"difference\",\"outside\",\"natural\",\"taken\",\"seven\",\"given\",\"changed\",\"leave\",\"cell\",\"15\",\"close\",\"behind\",\"cities\",\"full\",\"scale\",\"difficult\",\"china\",\"takes\",\"companies\",\"yourself\",\"area\",\"reality\",\"seeing\",\"easy\",\"turned\",\"cost\",\"eyes\",\"team\",\"moving\",\"population\",\"culture\",\"york\",\"hands\",\"whatever\",\"began\",\"needs\",\"terms\",\"image\",\"simply\",\"needed\",\"beginning\",\"father\",\"local\",\"realized\",\"media\",\"death\",\"parents\",\"view\",\"walk\",\"white\",\"market\",\"parts\",\"ocean\",\"economic\",\"eight\",\"powerful\",\"known\",\"week\",\"size\",\"felt\",\"humans\",\"certain\",\"spend\",\"longer\",\"phone\",\"wonderful\",\"cannot\",\"grow\",\"common\",\"center\",\"tried\",\"fish\",\"land\",\"oil\",\"political\",\"interested\",\"deal\",\"red\",\"gone\",\"amount\",\"weeks\",\"spent\",\"opportunity\",\"paper\",\"lost\",\"national\",\"quickly\",\"blue\",\"step\",\"poor\",\"green\",\"buy\",\"growth\",\"wouldn\",\"either\",\"patients\",\"sitting\",\"ability\",\"changes\",\"write\",\"challenge\",\"south\",\"low\",\"growing\",\"friend\",\"field\",\"shows\",\"2\",\"born\",\"rest\",\"climate\",\"40\",\"test\",\"street\",\"surface\",\"incredible\",\"average\",\"physical\",\"morning\",\"scientists\",\"program\",\"pay\",\"value\",\"feeling\",\"hundreds\",\"girl\",\"met\",\"behavior\",\"economy\",\"dna\",\"complex\",\"access\",\"risk\",\"animal\",\"structure\",\"feet\",\"attention\",\"areas\",\"anyone\",\"deep\",\"watch\",\"short\",\"absolutely\",\"speak\",\"brought\",\"die\",\"bottom\",\"numbers\",\"audience\",\"stage\",\"realize\",\"law\",\"images\",\"wrote\",\"understanding\",\"knowledge\",\"literally\",\"books\",\"movement\",\"ground\",\"giving\",\"eat\",\"force\",\"seems\",\"alone\",\"telling\",\"starting\",\"hold\",\"nice\",\"forward\",\"sea\",\"developed\",\"individual\",\"kid\",\"millions\",\"support\",\"miles\",\"tools\",\"running\",\"online\",\"result\",\"act\",\"medical\",\"technologies\",\"north\",\"lab\",\"development\",\"blood\",\"fear\",\"nobody\",\"map\",\"personal\",\"issue\",\"voice\",\"material\",\"key\",\"12\",\"recently\",\"theory\",\"cut\",\"cars\",\"sun\",\"fast\",\"changing\",\"playing\",\"clear\",\"especially\",\"soon\",\"girls\",\"patient\",\"choice\",\"fly\",\"creating\",\"normal\",\"discovered\",\"europe\",\"talked\",\"relationship\",\"gives\",\"generation\",\"dark\",\"type\",\"showed\",\"chance\",\"seem\",\"industry\",\"asking\",\"rate\",\"fun\",\"issues\",\"color\",\"designed\",\"hour\",\"university\",\"innovation\",\"several\",\"class\",\"computers\",\"english\",\"tiny\",\"allow\",\"save\",\"focus\",\"digital\",\"solve\",\"developing\",\"network\",\"film\",\"special\",\"wall\",\"situation\",\"baby\",\"solution\",\"reasons\",\"box\",\"knows\",\"meet\",\"dead\",\"stand\",\"begin\",\"haven\",\"impact\",\"anybody\",\"term\",\"beyond\",\"pictures\",\"please\",\"ice\",\"produce\",\"shape\",\"non\",\"resources\",\"robot\",\"cool\",\"groups\",\"likely\",\"stay\",\"available\",\"truth\",\"rights\",\"major\",\"cause\",\"evidence\",\"obviously\",\"writing\",\"experiment\",\"modern\",\"drug\",\"becomes\",\"incredibly\",\"aren\",\"bigger\",\"guess\",\"nine\",\"product\",\"drugs\",\"lived\",\"involved\",\"perfect\",\"google\",\"month\",\"effect\",\"similar\",\"putting\",\"eye\",\"pick\",\"message\",\"quality\",\"violence\",\"web\",\"evolution\",\"security\",\"office\",\"basic\",\"solar\",\"indeed\",\"general\",\"towards\",\"present\",\"drive\",\"send\",\"listen\",\"worth\",\"revolution\",\"explain\",\"hundred\",\"certainly\",\"died\",\"ready\",\"teach\",\"journey\",\"25\",\"hit\",\"walking\",\"led\",\"approach\",\"international\",\"200\",\"scientific\",\"games\",\"60\",\"potential\",\"crazy\",\"communities\",\"chinese\",\"device\",\"source\",\"camera\",\"rules\",\"sex\",\"carbon\",\"sounds\",\"boy\",\"reach\",\"starts\",\"examples\",\"west\",\"3\",\"success\",\"measure\",\"particularly\",\"software\",\"totally\",\"suddenly\",\"action\",\"college\",\"higher\",\"code\",\"eventually\",\"democracy\",\"among\",\"minute\",\"sit\",\"largest\",\"showing\",\"hospital\",\"notice\",\"period\",\"mass\",\"develop\",\"dream\",\"onto\",\"plants\",\"break\",\"add\",\"memory\",\"everywhere\",\"favorite\",\"11\",\"zero\",\"speed\",\"schools\",\"moved\",\"response\",\"wants\",\"extremely\",\"movie\",\"individuals\",\"table\",\"wait\",\"medicine\",\"follow\",\"anyway\",\"trust\",\"plant\",\"biggest\",\"watching\",\"organization\",\"creative\",\"road\",\"choose\",\"worse\",\"lead\",\"results\",\"500\",\"exciting\",\"grew\",\"materials\",\"jobs\",\"plan\",\"east\",\"poverty\",\"positive\",\"safe\",\"strong\",\"fall\",\"essentially\",\"object\",\"door\",\"son\",\"vision\",\"further\",\"happiness\",\"continue\",\"student\",\"doctor\",\"including\",\"named\",\"role\",\"objects\",\"extraordinary\",\"standing\",\"skin\",\"leaders\",\"usually\",\"african\",\"conversation\",\"projects\",\"allowed\",\"models\",\"supposed\",\"faster\",\"interest\",\"families\",\"police\",\"fight\",\"tree\",\"connected\",\"screen\",\"5\",\"cases\",\"goal\",\"somewhere\",\"finding\",\"buildings\",\"shown\"],\"x1\":{\"__ndarray__\":\"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\",\"dtype\":\"float64\",\"shape\":[1000]},\"x2\":{\"__ndarray__\":\"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\",\"dtype\":\"float64\",\"shape\":[1000]}}},\"id\":\"ee4d3d7d-e160-496a-a2c4-e0a5cf2680c6\",\"type\":\"ColumnDataSource\"},{\"attributes\":{},\"id\":\"69b46eda-0f07-46fc-b0f9-2afc5d4b5be9\",\"type\":\"BasicTickFormatter\"},{\"attributes\":{\"plot\":null,\"text\":\"word2vec T-SNE for most common words\"},\"id\":\"4d794765-6333-4234-93b1-8efafd92a161\",\"type\":\"Title\"},{\"attributes\":{\"plot\":{\"id\":\"05eb0302-a198-4c4d-9ec0-7c74b176ed81\",\"subtype\":\"Figure\",\"type\":\"Plot\"}},\"id\":\"fb450564-1bcc-45ac-98ea-779e927221e4\",\"type\":\"WheelZoomTool\"},{\"attributes\":{\"plot\":{\"id\":\"05eb0302-a198-4c4d-9ec0-7c74b176ed81\",\"subtype\":\"Figure\",\"type\":\"Plot\"}},\"id\":\"bd3c841c-41e3-4bea-8621-d56b5badf56b\",\"type\":\"ResetTool\"},{\"attributes\":{\"callback\":null},\"id\":\"b78e98f2-8772-4671-aa09-cef77c684c04\",\"type\":\"DataRange1d\"},{\"attributes\":{},\"id\":\"fd2477e3-5ac1-422b-9c89-dae105e7bc58\",\"type\":\"ToolEvents\"},{\"attributes\":{\"active_drag\":\"auto\",\"active_scroll\":\"auto\",\"active_tap\":\"auto\",\"tools\":[{\"id\":\"c967071e-1fdf-4dda-9af9-4c96c25cc5f0\",\"type\":\"PanTool\"},{\"id\":\"fb450564-1bcc-45ac-98ea-779e927221e4\",\"type\":\"WheelZoomTool\"},{\"id\":\"bd3c841c-41e3-4bea-8621-d56b5badf56b\",\"type\":\"ResetTool\"},{\"id\":\"c9363aeb-a7eb-4dc1-8783-a0ec4fe9d024\",\"type\":\"SaveTool\"}]},\"id\":\"d9d373a6-0fd5-4e87-9b56-3c58775d9aaf\",\"type\":\"Toolbar\"},{\"attributes\":{\"callback\":null},\"id\":\"5b308556-767b-4791-a3ea-0707e1e4f170\",\"type\":\"DataRange1d\"},{\"attributes\":{\"formatter\":{\"id\":\"69b46eda-0f07-46fc-b0f9-2afc5d4b5be9\",\"type\":\"BasicTickFormatter\"},\"plot\":{\"id\":\"05eb0302-a198-4c4d-9ec0-7c74b176ed81\",\"subtype\":\"Figure\",\"type\":\"Plot\"},\"ticker\":{\"id\":\"ef3db094-4759-47de-a0e8-2c1dbda3a50c\",\"type\":\"BasicTicker\"}},\"id\":\"d5a9ba9e-6bdd-4be7-8289-fd430a6a95fa\",\"type\":\"LinearAxis\"},{\"attributes\":{\"formatter\":{\"id\":\"ceb4191c-d402-4a68-b89d-2f55869197e8\",\"type\":\"BasicTickFormatter\"},\"plot\":{\"id\":\"05eb0302-a198-4c4d-9ec0-7c74b176ed81\",\"subtype\":\"Figure\",\"type\":\"Plot\"},\"ticker\":{\"id\":\"19c73012-0f0b-4513-9284-6482aff14ea0\",\"type\":\"BasicTicker\"}},\"id\":\"d04c83f2-a5bf-489b-8a37-9386dc7f9227\",\"type\":\"LinearAxis\"},{\"attributes\":{},\"id\":\"19c73012-0f0b-4513-9284-6482aff14ea0\",\"type\":\"BasicTicker\"},{\"attributes\":{\"dimension\":1,\"plot\":{\"id\":\"05eb0302-a198-4c4d-9ec0-7c74b176ed81\",\"subtype\":\"Figure\",\"type\":\"Plot\"},\"ticker\":{\"id\":\"19c73012-0f0b-4513-9284-6482aff14ea0\",\"type\":\"BasicTicker\"}},\"id\":\"d3702c38-e89c-4012-8ad4-08f24000bb4e\",\"type\":\"Grid\"},{\"attributes\":{\"fill_alpha\":{\"value\":0.1},\"fill_color\":{\"value\":\"#1f77b4\"},\"line_alpha\":{\"value\":0.1},\"line_color\":{\"value\":\"#1f77b4\"},\"size\":{\"units\":\"screen\",\"value\":8},\"x\":{\"field\":\"x1\"},\"y\":{\"field\":\"x2\"}},\"id\":\"96531639-6bfe-44c7-9887-87f016d31b2d\",\"type\":\"Circle\"},{\"attributes\":{\"fill_color\":{\"value\":\"#1f77b4\"},\"line_color\":{\"value\":\"#1f77b4\"},\"size\":{\"units\":\"screen\",\"value\":8},\"x\":{\"field\":\"x1\"},\"y\":{\"field\":\"x2\"}},\"id\":\"301f7e61-3252-4f39-9206-902d5a933537\",\"type\":\"Circle\"},{\"attributes\":{\"plot\":{\"id\":\"05eb0302-a198-4c4d-9ec0-7c74b176ed81\",\"subtype\":\"Figure\",\"type\":\"Plot\"}},\"id\":\"c967071e-1fdf-4dda-9af9-4c96c25cc5f0\",\"type\":\"PanTool\"},{\"attributes\":{\"plot\":{\"id\":\"05eb0302-a198-4c4d-9ec0-7c74b176ed81\",\"subtype\":\"Figure\",\"type\":\"Plot\"}},\"id\":\"c9363aeb-a7eb-4dc1-8783-a0ec4fe9d024\",\"type\":\"SaveTool\"},{\"attributes\":{\"plot\":{\"id\":\"05eb0302-a198-4c4d-9ec0-7c74b176ed81\",\"subtype\":\"Figure\",\"type\":\"Plot\"},\"ticker\":{\"id\":\"ef3db094-4759-47de-a0e8-2c1dbda3a50c\",\"type\":\"BasicTicker\"}},\"id\":\"c12e4656-cf7c-4faa-858f-55e40ef05678\",\"type\":\"Grid\"},{\"attributes\":{},\"id\":\"ceb4191c-d402-4a68-b89d-2f55869197e8\",\"type\":\"BasicTickFormatter\"},{\"attributes\":{\"data_source\":{\"id\":\"ee4d3d7d-e160-496a-a2c4-e0a5cf2680c6\",\"type\":\"ColumnDataSource\"},\"glyph\":{\"id\":\"301f7e61-3252-4f39-9206-902d5a933537\",\"type\":\"Circle\"},\"hover_glyph\":null,\"nonselection_glyph\":{\"id\":\"96531639-6bfe-44c7-9887-87f016d31b2d\",\"type\":\"Circle\"},\"selection_glyph\":null},\"id\":\"40f24ac0-5898-4fdc-b81b-a63f78e039d0\",\"type\":\"GlyphRenderer\"},{\"attributes\":{},\"id\":\"ef3db094-4759-47de-a0e8-2c1dbda3a50c\",\"type\":\"BasicTicker\"}],\"root_ids\":[\"05eb0302-a198-4c4d-9ec0-7c74b176ed81\"]},\"title\":\"Bokeh Application\",\"version\":\"0.12.4\"}};\n",
       "            var render_items = [{\"docid\":\"05f97949-b533-4eb7-bfe4-78bf9ea3391a\",\"elementid\":\"24df2076-3896-424e-98b0-6f70f1e6069f\",\"modelid\":\"05eb0302-a198-4c4d-9ec0-7c74b176ed81\"}];\n",
       "            \n",
       "            Bokeh.embed.embed_items(docs_json, render_items);\n",
       "          };\n",
       "          if (document.readyState != \"loading\") fn();\n",
       "          else document.addEventListener(\"DOMContentLoaded\", fn);\n",
       "        })();\n",
       "      },\n",
       "      function(Bokeh) {\n",
       "      }\n",
       "    ];\n",
       "  \n",
       "    function run_inline_js() {\n",
       "      \n",
       "      if ((window.Bokeh !== undefined) || (force === true)) {\n",
       "        for (var i = 0; i < inline_js.length; i++) {\n",
       "          inline_js[i](window.Bokeh);\n",
       "        }if (force === true) {\n",
       "          display_loaded();\n",
       "        }} else if (Date.now() < window._bokeh_timeout) {\n",
       "        setTimeout(run_inline_js, 100);\n",
       "      } else if (!window._bokeh_failed_load) {\n",
       "        console.log(\"Bokeh: BokehJS failed to load within specified timeout.\");\n",
       "        window._bokeh_failed_load = true;\n",
       "      } else if (force !== true) {\n",
       "        var cell = $(document.getElementById(\"24df2076-3896-424e-98b0-6f70f1e6069f\")).parents('.cell').data().cell;\n",
       "        cell.output_area.append_execute_result(NB_LOAD_WARNING)\n",
       "      }\n",
       "  \n",
       "    }\n",
       "  \n",
       "    if (window._bokeh_is_loading === 0) {\n",
       "      console.log(\"Bokeh: BokehJS loaded, going straight to plotting\");\n",
       "      run_inline_js();\n",
       "    } else {\n",
       "      load_libs(js_urls, function() {\n",
       "        console.log(\"Bokeh: BokehJS plotting callback run at\", now());\n",
       "        run_inline_js();\n",
       "      });\n",
       "    }\n",
       "  }(this));\n",
       "</script>"
      ]
     },
     "metadata": {},
     "output_type": "display_data"
    }
   ],
   "source": [
    "p = figure(tools=\"pan,wheel_zoom,reset,save\",\n",
    "           toolbar_location=\"above\",\n",
    "           title=\"word2vec T-SNE for most common words\")\n",
    "\n",
    "source = ColumnDataSource(data=dict(x1=words_top_ted_tsne[:,0],\n",
    "                                    x2=words_top_ted_tsne[:,1],\n",
    "                                    names=words_top_ted))\n",
    "\n",
    "p.scatter(x=\"x1\", y=\"x2\", size=8, source=source)\n",
    "\n",
    "labels = LabelSet(x=\"x1\", y=\"x2\", text=\"names\", y_offset=6,\n",
    "                  text_font_size=\"8pt\", text_color=\"#555555\",\n",
    "                  source=source, text_align='center')\n",
    "p.add_layout(labels)\n",
    "\n",
    "show(p)"
   ]
  },
  {
   "cell_type": "markdown",
   "metadata": {
    "deletable": true,
    "editable": true
   },
   "source": [
    "### Part 5: Wiki Learnt Representations"
   ]
  },
  {
   "cell_type": "markdown",
   "metadata": {
    "deletable": true,
    "editable": true
   },
   "source": [
    "Download dataset"
   ]
  },
  {
   "cell_type": "code",
   "execution_count": 25,
   "metadata": {
    "collapsed": false,
    "deletable": true,
    "editable": true
   },
   "outputs": [],
   "source": [
    "if not os.path.isfile('wikitext-103-raw-v1.zip'):\n",
    "    urllib.request.urlretrieve(\"https://s3.amazonaws.com/research.metamind.io/wikitext/wikitext-103-raw-v1.zip\", filename=\"wikitext-103-raw-v1.zip\")"
   ]
  },
  {
   "cell_type": "code",
   "execution_count": 26,
   "metadata": {
    "collapsed": false,
    "deletable": true,
    "editable": true
   },
   "outputs": [],
   "source": [
    "with zipfile.ZipFile('wikitext-103-raw-v1.zip', 'r') as z:\n",
    "    input_text = str(z.open('wikitext-103-raw/wiki.train.raw', 'r').read(), encoding='utf-8') # Thanks Robert Bastian"
   ]
  },
  {
   "cell_type": "markdown",
   "metadata": {
    "deletable": true,
    "editable": true
   },
   "source": [
    "Preprocess sentences (note that it's important to remove small sentences for performance)"
   ]
  },
  {
   "cell_type": "code",
   "execution_count": 27,
   "metadata": {
    "collapsed": false,
    "deletable": true,
    "editable": true
   },
   "outputs": [],
   "source": [
    "sentences_wiki = []\n",
    "for line in input_text.split('\\n'):\n",
    "    s = [x for x in line.split('.') if x and len(x.split()) >= 5]\n",
    "    sentences_wiki.extend(s)\n",
    "    \n",
    "for s_i in range(len(sentences_wiki)):\n",
    "    sentences_wiki[s_i] = re.sub(\"[^a-z]\", \" \", sentences_wiki[s_i].lower())\n",
    "    sentences_wiki[s_i] = re.sub(r'\\([^)]*\\)', '', sentences_wiki[s_i])\n",
    "del input_text"
   ]
  },
  {
   "cell_type": "code",
   "execution_count": 28,
   "metadata": {
    "collapsed": false,
    "deletable": true,
    "editable": true
   },
   "outputs": [
    {
     "name": "stdout",
     "output_type": "stream",
     "text": [
      "4267112\n",
      "853422\n"
     ]
    }
   ],
   "source": [
    "# sample 1/5 of the data\n",
    "shuffle(sentences_wiki)\n",
    "print(len(sentences_wiki))\n",
    "sentences_wiki = sentences_wiki[:int(len(sentences_wiki)/5)]\n",
    "print(len(sentences_wiki))"
   ]
  },
  {
   "cell_type": "markdown",
   "metadata": {
    "deletable": true,
    "editable": true
   },
   "source": [
    "Now, repeat all the same steps that you performed above. You should be able to reuse essentially all the code."
   ]
  },
  {
   "cell_type": "code",
   "execution_count": 29,
   "metadata": {
    "collapsed": false,
    "deletable": true,
    "editable": true
   },
   "outputs": [],
   "source": [
    "sentences_wiki_ted = []\n",
    "for sent_str in sentences_wiki:\n",
    "    tokens = re.sub(r\"[^a-z0-9]+\", \" \", sent_str.lower()).split()\n",
    "    sentences_wiki_ted.append(tokens)"
   ]
  },
  {
   "cell_type": "code",
   "execution_count": 30,
   "metadata": {
    "collapsed": false
   },
   "outputs": [],
   "source": [
    "wordOccurence_wiki = {}\n",
    "for sentence in sentences_wiki_ted:\n",
    "    for word in sentence:\n",
    "        if(word not in wordOccurence_wiki.keys()):\n",
    "            wordOccurence_wiki[word] = 0\n",
    "        wordOccurence_wiki[word] = wordOccurence_wiki[word] + 1\n",
    "del sentence, word"
   ]
  },
  {
   "cell_type": "code",
   "execution_count": 31,
   "metadata": {
    "collapsed": false
   },
   "outputs": [
    {
     "data": {
      "text/plain": [
       "1000"
      ]
     },
     "execution_count": 31,
     "metadata": {},
     "output_type": "execute_result"
    }
   ],
   "source": [
    "import operator\n",
    "wordOccurence_wiki = sorted(wordOccurence_wiki.items(), key=operator.itemgetter(1), reverse=True)\n",
    "wordOccurence_wiki = wordOccurence_wiki[:1000]\n",
    "counts_ted_top1000_wiki = [ v[1] for v in wordOccurence_wiki]\n",
    "len(counts_ted_top1000_wiki)"
   ]
  },
  {
   "cell_type": "markdown",
   "metadata": {},
   "source": [
    "##### Plot 1000 top words from WikiText-2"
   ]
  },
  {
   "cell_type": "code",
   "execution_count": 32,
   "metadata": {
    "collapsed": false
   },
   "outputs": [
    {
     "data": {
      "text/html": [
       "\n",
       "\n",
       "    <div class=\"bk-root\">\n",
       "        <div class=\"bk-plotdiv\" id=\"3776913e-9218-4e6e-92c2-e894f054eed6\"></div>\n",
       "    </div>\n",
       "<script type=\"text/javascript\">\n",
       "  \n",
       "  (function(global) {\n",
       "    function now() {\n",
       "      return new Date();\n",
       "    }\n",
       "  \n",
       "    var force = false;\n",
       "  \n",
       "    if (typeof (window._bokeh_onload_callbacks) === \"undefined\" || force === true) {\n",
       "      window._bokeh_onload_callbacks = [];\n",
       "      window._bokeh_is_loading = undefined;\n",
       "    }\n",
       "  \n",
       "  \n",
       "    \n",
       "    if (typeof (window._bokeh_timeout) === \"undefined\" || force === true) {\n",
       "      window._bokeh_timeout = Date.now() + 0;\n",
       "      window._bokeh_failed_load = false;\n",
       "    }\n",
       "  \n",
       "    var NB_LOAD_WARNING = {'data': {'text/html':\n",
       "       \"<div style='background-color: #fdd'>\\n\"+\n",
       "       \"<p>\\n\"+\n",
       "       \"BokehJS does not appear to have successfully loaded. If loading BokehJS from CDN, this \\n\"+\n",
       "       \"may be due to a slow or bad network connection. Possible fixes:\\n\"+\n",
       "       \"</p>\\n\"+\n",
       "       \"<ul>\\n\"+\n",
       "       \"<li>re-rerun `output_notebook()` to attempt to load from CDN again, or</li>\\n\"+\n",
       "       \"<li>use INLINE resources instead, as so:</li>\\n\"+\n",
       "       \"</ul>\\n\"+\n",
       "       \"<code>\\n\"+\n",
       "       \"from bokeh.resources import INLINE\\n\"+\n",
       "       \"output_notebook(resources=INLINE)\\n\"+\n",
       "       \"</code>\\n\"+\n",
       "       \"</div>\"}};\n",
       "  \n",
       "    function display_loaded() {\n",
       "      if (window.Bokeh !== undefined) {\n",
       "        document.getElementById(\"3776913e-9218-4e6e-92c2-e894f054eed6\").textContent = \"BokehJS successfully loaded.\";\n",
       "      } else if (Date.now() < window._bokeh_timeout) {\n",
       "        setTimeout(display_loaded, 100)\n",
       "      }\n",
       "    }\n",
       "  \n",
       "    function run_callbacks() {\n",
       "      window._bokeh_onload_callbacks.forEach(function(callback) { callback() });\n",
       "      delete window._bokeh_onload_callbacks\n",
       "      console.info(\"Bokeh: all callbacks have finished\");\n",
       "    }\n",
       "  \n",
       "    function load_libs(js_urls, callback) {\n",
       "      window._bokeh_onload_callbacks.push(callback);\n",
       "      if (window._bokeh_is_loading > 0) {\n",
       "        console.log(\"Bokeh: BokehJS is being loaded, scheduling callback at\", now());\n",
       "        return null;\n",
       "      }\n",
       "      if (js_urls == null || js_urls.length === 0) {\n",
       "        run_callbacks();\n",
       "        return null;\n",
       "      }\n",
       "      console.log(\"Bokeh: BokehJS not loaded, scheduling load and callback at\", now());\n",
       "      window._bokeh_is_loading = js_urls.length;\n",
       "      for (var i = 0; i < js_urls.length; i++) {\n",
       "        var url = js_urls[i];\n",
       "        var s = document.createElement('script');\n",
       "        s.src = url;\n",
       "        s.async = false;\n",
       "        s.onreadystatechange = s.onload = function() {\n",
       "          window._bokeh_is_loading--;\n",
       "          if (window._bokeh_is_loading === 0) {\n",
       "            console.log(\"Bokeh: all BokehJS libraries loaded\");\n",
       "            run_callbacks()\n",
       "          }\n",
       "        };\n",
       "        s.onerror = function() {\n",
       "          console.warn(\"failed to load library \" + url);\n",
       "        };\n",
       "        console.log(\"Bokeh: injecting script tag for BokehJS library: \", url);\n",
       "        document.getElementsByTagName(\"head\")[0].appendChild(s);\n",
       "      }\n",
       "    };var element = document.getElementById(\"3776913e-9218-4e6e-92c2-e894f054eed6\");\n",
       "    if (element == null) {\n",
       "      console.log(\"Bokeh: ERROR: autoload.js configured with elementid '3776913e-9218-4e6e-92c2-e894f054eed6' but no matching script tag was found. \")\n",
       "      return false;\n",
       "    }\n",
       "  \n",
       "    var js_urls = [];\n",
       "  \n",
       "    var inline_js = [\n",
       "      function(Bokeh) {\n",
       "        (function() {\n",
       "          var fn = function() {\n",
       "            var docs_json = {\"f991d5fc-1a7e-4df4-b22d-5677a443a5f9\":{\"roots\":{\"references\":[{\"attributes\":{\"bottom\":{\"value\":0},\"fill_color\":{\"value\":\"#1f77b4\"},\"left\":{\"field\":\"left\"},\"line_color\":{\"value\":\"#555555\"},\"right\":{\"field\":\"right\"},\"top\":{\"field\":\"top\"}},\"id\":\"071710c6-9774-44ec-a834-8b493229e3a5\",\"type\":\"Quad\"},{\"attributes\":{\"below\":[{\"id\":\"8ce0f66f-a7c4-480b-a7b4-d51f0db6b2ee\",\"type\":\"LinearAxis\"}],\"left\":[{\"id\":\"9b8075ce-9662-489b-84b3-122127422051\",\"type\":\"LinearAxis\"}],\"renderers\":[{\"id\":\"8ce0f66f-a7c4-480b-a7b4-d51f0db6b2ee\",\"type\":\"LinearAxis\"},{\"id\":\"3b0e5f78-b7e8-4520-a1a7-d806a0a6da98\",\"type\":\"Grid\"},{\"id\":\"9b8075ce-9662-489b-84b3-122127422051\",\"type\":\"LinearAxis\"},{\"id\":\"6ef79eda-a1e1-4abd-91cb-c3cf819d5afa\",\"type\":\"Grid\"},{\"id\":\"3a4932cb-46f5-4340-a364-3502cba3cb8e\",\"type\":\"GlyphRenderer\"}],\"title\":{\"id\":\"b6451a3c-fabf-4f44-a147-422e154468c4\",\"type\":\"Title\"},\"tool_events\":{\"id\":\"9897f839-c804-4b01-8fe6-2d709a37690c\",\"type\":\"ToolEvents\"},\"toolbar\":{\"id\":\"7760f2f8-b7ae-4467-bd5e-2feba9a574c1\",\"type\":\"Toolbar\"},\"toolbar_location\":\"above\",\"x_range\":{\"id\":\"323d1b35-ed77-44cb-9935-b79fbab7480f\",\"type\":\"DataRange1d\"},\"y_range\":{\"id\":\"dbabeb23-93fa-492e-84a8-2792b508f335\",\"type\":\"DataRange1d\"}},\"id\":\"c6d4dee8-ef7b-40ef-8595-511738bd775b\",\"subtype\":\"Figure\",\"type\":\"Plot\"},{\"attributes\":{\"data_source\":{\"id\":\"890e95f1-8779-47e0-baf4-d4735ea0ba8e\",\"type\":\"ColumnDataSource\"},\"glyph\":{\"id\":\"071710c6-9774-44ec-a834-8b493229e3a5\",\"type\":\"Quad\"},\"hover_glyph\":null,\"nonselection_glyph\":{\"id\":\"874a4e34-417b-4896-8abd-fcb4e0235805\",\"type\":\"Quad\"},\"selection_glyph\":null},\"id\":\"3a4932cb-46f5-4340-a364-3502cba3cb8e\",\"type\":\"GlyphRenderer\"},{\"attributes\":{\"plot\":null,\"text\":\"Top-1000 words distribution\"},\"id\":\"b6451a3c-fabf-4f44-a147-422e154468c4\",\"type\":\"Title\"},{\"attributes\":{},\"id\":\"ec65c736-5b9d-4980-a324-6d4706ac2a57\",\"type\":\"BasicTickFormatter\"},{\"attributes\":{\"formatter\":{\"id\":\"ec65c736-5b9d-4980-a324-6d4706ac2a57\",\"type\":\"BasicTickFormatter\"},\"plot\":{\"id\":\"c6d4dee8-ef7b-40ef-8595-511738bd775b\",\"subtype\":\"Figure\",\"type\":\"Plot\"},\"ticker\":{\"id\":\"1af434ac-d768-49aa-8467-8b9b7ebb6d50\",\"type\":\"BasicTicker\"}},\"id\":\"8ce0f66f-a7c4-480b-a7b4-d51f0db6b2ee\",\"type\":\"LinearAxis\"},{\"attributes\":{\"callback\":null},\"id\":\"323d1b35-ed77-44cb-9935-b79fbab7480f\",\"type\":\"DataRange1d\"},{\"attributes\":{},\"id\":\"9897f839-c804-4b01-8fe6-2d709a37690c\",\"type\":\"ToolEvents\"},{\"attributes\":{\"active_drag\":\"auto\",\"active_scroll\":\"auto\",\"active_tap\":\"auto\",\"tools\":[{\"id\":\"84e7a51f-f705-48fb-a347-4d8c398c52b4\",\"type\":\"PanTool\"},{\"id\":\"87c76b0a-ab90-43f0-ac81-9d1ae1d1ea31\",\"type\":\"WheelZoomTool\"},{\"id\":\"426bc8cc-28e3-4330-ad0c-ad3038a464de\",\"type\":\"ResetTool\"},{\"id\":\"7661f1cc-aa3e-41b5-9e01-c9c51245253e\",\"type\":\"SaveTool\"}]},\"id\":\"7760f2f8-b7ae-4467-bd5e-2feba9a574c1\",\"type\":\"Toolbar\"},{\"attributes\":{\"callback\":null},\"id\":\"dbabeb23-93fa-492e-84a8-2792b508f335\",\"type\":\"DataRange1d\"},{\"attributes\":{},\"id\":\"1af434ac-d768-49aa-8467-8b9b7ebb6d50\",\"type\":\"BasicTicker\"},{\"attributes\":{\"plot\":{\"id\":\"c6d4dee8-ef7b-40ef-8595-511738bd775b\",\"subtype\":\"Figure\",\"type\":\"Plot\"},\"ticker\":{\"id\":\"1af434ac-d768-49aa-8467-8b9b7ebb6d50\",\"type\":\"BasicTicker\"}},\"id\":\"3b0e5f78-b7e8-4520-a1a7-d806a0a6da98\",\"type\":\"Grid\"},{\"attributes\":{\"formatter\":{\"id\":\"84aa0e44-3f3c-42bc-b2ab-7b4253d2c624\",\"type\":\"BasicTickFormatter\"},\"plot\":{\"id\":\"c6d4dee8-ef7b-40ef-8595-511738bd775b\",\"subtype\":\"Figure\",\"type\":\"Plot\"},\"ticker\":{\"id\":\"e3f1e13f-c1e7-4928-aad6-ba53d7a22d16\",\"type\":\"BasicTicker\"}},\"id\":\"9b8075ce-9662-489b-84b3-122127422051\",\"type\":\"LinearAxis\"},{\"attributes\":{},\"id\":\"e3f1e13f-c1e7-4928-aad6-ba53d7a22d16\",\"type\":\"BasicTicker\"},{\"attributes\":{\"dimension\":1,\"plot\":{\"id\":\"c6d4dee8-ef7b-40ef-8595-511738bd775b\",\"subtype\":\"Figure\",\"type\":\"Plot\"},\"ticker\":{\"id\":\"e3f1e13f-c1e7-4928-aad6-ba53d7a22d16\",\"type\":\"BasicTicker\"}},\"id\":\"6ef79eda-a1e1-4abd-91cb-c3cf819d5afa\",\"type\":\"Grid\"},{\"attributes\":{\"callback\":null,\"column_names\":[\"left\",\"right\",\"top\"],\"data\":{\"left\":{\"__ndarray__\":\"AAAAAACwnUA9Ctej8MnMQD0K16Pw7tpArkfhenS840A9CtejcAHqQGZmZmY2I/BArkfherRF80D1KFyPMmj2QD0K16OwivlAhetRuC6t/EDMzMzMrM//QArXo3AVeQFBrkfhelQKA0FSuB6Fk5sEQfUoXI/SLAZBmZmZmRG+B0E9CtejUE8JQeF6FK6P4ApBhetRuM5xDEEoXI/CDQMOQczMzMxMlA9BuB6F68WSEEEK16NwZVsRQVyPwvUEJBJBrkfheqTsEkEAAAAARLUTQVK4HoXjfRRBo3A9CoNGFUH1KFyPIg8WQUfhehTC1xZBmZmZmWGgF0HrUbgeAWkYQT0K16OgMRlBj8L1KED6GUHhehSu38IaQTMzMzN/ixtBhetRuB5UHEHXo3A9vhwdQShcj8Jd5R1BehSuR/2tHkHMzMzMnHYfQY/C9SieHyBBuB6F6+2DIEHhehSuPeggQQrXo3CNTCFBMzMzM92wIUFcj8L1LBUiQYXrUbh8eSJBrkfheszdIkHXo3A9HEIjQQAAAABspiNBKVyPwrsKJEFSuB6FC28kQXsUrkdb0yRBo3A9Cqs3JUHMzMzM+pslQfUoXI9KACZBHoXrUZpkJkFH4XoU6sgmQXA9Ctc5LSdBmZmZmYmRJ0HC9Shc2fUnQetRuB4pWihBFK5H4Xi+KEE9CtejyCIpQWZmZmYYhylBj8L1KGjrKUG4HoXrt08qQeF6FK4HtCpBCtejcFcYK0EzMzMzp3wrQVyPwvX24CtBhetRuEZFLEGuR+F6lqksQdejcD3mDS1B/////zVyLUEoXI/ChdYtQVG4HoXVOi5BehSuRyWfLkGjcD0KdQMvQczMzMzEZy9B9ShcjxTML0GPwvUoMhgwQaRwPQpaSjBBuB6F64F8MEHNzMzMqa4wQeF6FK7R4DBB9Shcj/kSMUEK16NwIUUxQR6F61FJdzFBMzMzM3GpMUFH4XoUmdsxQVyPwvXADTJBcD0K1+g/MkGF61G4EHIyQZmZmZk4pDJBrkfhemDWMkHC9ShciAgzQdejcD2wOjNB61G4HthsM0E=\",\"dtype\":\"float64\",\"shape\":[100]},\"right\":{\"__ndarray__\":\"PQrXo/DJzEA9Ctej8O7aQK5H4Xp0vONAPQrXo3AB6kBmZmZmNiPwQK5H4Xq0RfNA9ShcjzJo9kA9CtejsIr5QIXrUbgurfxAzMzMzKzP/0AK16NwFXkBQa5H4XpUCgNBUrgehZObBEH1KFyP0iwGQZmZmZkRvgdBPQrXo1BPCUHhehSuj+AKQYXrUbjOcQxBKFyPwg0DDkHMzMzMTJQPQbgehevFkhBBCtejcGVbEUFcj8L1BCQSQa5H4Xqk7BJBAAAAAES1E0FSuB6F430UQaNwPQqDRhVB9ShcjyIPFkFH4XoUwtcWQZmZmZlhoBdB61G4HgFpGEE9CtejoDEZQY/C9ShA+hlB4XoUrt/CGkEzMzMzf4sbQYXrUbgeVBxB16NwPb4cHUEoXI/CXeUdQXoUrkf9rR5BzMzMzJx2H0GPwvUonh8gQbgehevtgyBB4XoUrj3oIEEK16NwjUwhQTMzMzPdsCFBXI/C9SwVIkGF61G4fHkiQa5H4XrM3SJB16NwPRxCI0EAAAAAbKYjQSlcj8K7CiRBUrgehQtvJEF7FK5HW9MkQaNwPQqrNyVBzMzMzPqbJUH1KFyPSgAmQR6F61GaZCZBR+F6FOrIJkFwPQrXOS0nQZmZmZmJkSdBwvUoXNn1J0HrUbgeKVooQRSuR+F4vihBPQrXo8giKUFmZmZmGIcpQY/C9Sho6ylBuB6F67dPKkHhehSuB7QqQQrXo3BXGCtBMzMzM6d8K0Fcj8L19uArQYXrUbhGRSxBrkfhepapLEHXo3A95g0tQf////81ci1BKFyPwoXWLUFRuB6F1TouQXoUrkclny5Bo3A9CnUDL0HMzMzMxGcvQfUoXI8UzC9Bj8L1KDIYMEGkcD0KWkowQbgeheuBfDBBzczMzKmuMEHhehSu0eAwQfUoXI/5EjFBCtejcCFFMUEehetRSXcxQTMzMzNxqTFBR+F6FJnbMUFcj8L1wA0yQXA9CtfoPzJBhetRuBByMkGZmZmZOKQyQa5H4Xpg1jJBwvUoXIgIM0HXo3A9sDozQetRuB7YbDNBAAAAAACfM0E=\",\"dtype\":\"float64\",\"shape\":[100]},\"top\":{\"__ndarray__\":\"NkSk2AO+Ej+Pl6oeSizIPv6Jk8AI6LQ+gGy48Aoimj4AT90gDVyPPv2Jk8AI6HQ+A4qTwAjohD79iZPACOiUPgAAAAAAAAAAA4qTwAjohD79iZPACOiEPv2Jk8AI6IQ+/YmTwAjodD4AAAAAAAAAAAAAAAAAAAAAAAAAAAAAAAD9iZPACOh0PgAAAAAAAAAAAAAAAAAAAAAAAAAAAAAAAAAAAAAAAAAAAAAAAAAAAAAAAAAAAAAAAAAAAAAAAAAAAAAAAAAAAAAAAAAAAAAAAAAAAAAAAAAA/YmTwAjodD4AAAAAAAAAAAAAAAAAAAAA/YmTwAjodD4AAAAAAAAAAAAAAAAAAAAA/YmTwAjodD4AAAAAAAAAAAAAAAAAAAAAAAAAAAAAAAAAAAAAAAAAAP2Jk8AI6HQ+AAAAAAAAAAAAAAAAAAAAAAAAAAAAAAAA/YmTwAjodD4AAAAAAAAAAAAAAAAAAAAAAAAAAAAAAAAAAAAAAAAAAAAAAAAAAAAAAAAAAAAAAAAAAAAAAAAAAAAAAAAAAAAAAAAAAAAAAAAAAAAAAAAAAAAAAAAAAAAAAAAAAAAAAAAAAAAAAAAAAAAAAAAAAAAAAAAAAAAAAAAAAAAAAAAAAAAAAAAAAAAAAAAAAAAAAAAAAAAAAAAAAAAAAAAAAAAAAAAAAAAAAAAAAAAAAAAAAAAAAAAAAAAAAAAAAAAAAAAAAAAAAAAAAAAAAAAAAAAAAAAAAAAAAAAAAAAAAAAAAAAAAAAAAAAAAAAAAAAAAAAAAAAAAAAAAAAAAAAAAAAAAAAAAAAAAAAAAAAAAAAAAAAAAAAAAAAAAAAAAAAAAAAAAAAAAAAAAAAAAAAAAAAAAAAAAAAAAAAAAAAAAAAAAAAAAAAAAAAAAAAAAAAAAAAAAAAAAAAAAAAAAAAAAAAAAAAAAAAAAAAAAAAAAAAAAAAAAAAAAAAAAAAAAAAAAAAAAAAAAAAAAAAAAAAAAAAAAAAAAAAAAAAAAAAAAAAAAAAAAAAAAAAAAAAAAAAAAAAAAAAAAAAAAAAAAAAAAAAAyImTwAjodD4=\",\"dtype\":\"float64\",\"shape\":[100]}}},\"id\":\"890e95f1-8779-47e0-baf4-d4735ea0ba8e\",\"type\":\"ColumnDataSource\"},{\"attributes\":{\"bottom\":{\"value\":0},\"fill_alpha\":{\"value\":0.1},\"fill_color\":{\"value\":\"#1f77b4\"},\"left\":{\"field\":\"left\"},\"line_alpha\":{\"value\":0.1},\"line_color\":{\"value\":\"#1f77b4\"},\"right\":{\"field\":\"right\"},\"top\":{\"field\":\"top\"}},\"id\":\"874a4e34-417b-4896-8abd-fcb4e0235805\",\"type\":\"Quad\"},{\"attributes\":{\"plot\":{\"id\":\"c6d4dee8-ef7b-40ef-8595-511738bd775b\",\"subtype\":\"Figure\",\"type\":\"Plot\"}},\"id\":\"84e7a51f-f705-48fb-a347-4d8c398c52b4\",\"type\":\"PanTool\"},{\"attributes\":{\"plot\":{\"id\":\"c6d4dee8-ef7b-40ef-8595-511738bd775b\",\"subtype\":\"Figure\",\"type\":\"Plot\"}},\"id\":\"87c76b0a-ab90-43f0-ac81-9d1ae1d1ea31\",\"type\":\"WheelZoomTool\"},{\"attributes\":{\"plot\":{\"id\":\"c6d4dee8-ef7b-40ef-8595-511738bd775b\",\"subtype\":\"Figure\",\"type\":\"Plot\"}},\"id\":\"426bc8cc-28e3-4330-ad0c-ad3038a464de\",\"type\":\"ResetTool\"},{\"attributes\":{\"plot\":{\"id\":\"c6d4dee8-ef7b-40ef-8595-511738bd775b\",\"subtype\":\"Figure\",\"type\":\"Plot\"}},\"id\":\"7661f1cc-aa3e-41b5-9e01-c9c51245253e\",\"type\":\"SaveTool\"},{\"attributes\":{},\"id\":\"84aa0e44-3f3c-42bc-b2ab-7b4253d2c624\",\"type\":\"BasicTickFormatter\"}],\"root_ids\":[\"c6d4dee8-ef7b-40ef-8595-511738bd775b\"]},\"title\":\"Bokeh Application\",\"version\":\"0.12.4\"}};\n",
       "            var render_items = [{\"docid\":\"f991d5fc-1a7e-4df4-b22d-5677a443a5f9\",\"elementid\":\"3776913e-9218-4e6e-92c2-e894f054eed6\",\"modelid\":\"c6d4dee8-ef7b-40ef-8595-511738bd775b\"}];\n",
       "            \n",
       "            Bokeh.embed.embed_items(docs_json, render_items);\n",
       "          };\n",
       "          if (document.readyState != \"loading\") fn();\n",
       "          else document.addEventListener(\"DOMContentLoaded\", fn);\n",
       "        })();\n",
       "      },\n",
       "      function(Bokeh) {\n",
       "      }\n",
       "    ];\n",
       "  \n",
       "    function run_inline_js() {\n",
       "      \n",
       "      if ((window.Bokeh !== undefined) || (force === true)) {\n",
       "        for (var i = 0; i < inline_js.length; i++) {\n",
       "          inline_js[i](window.Bokeh);\n",
       "        }if (force === true) {\n",
       "          display_loaded();\n",
       "        }} else if (Date.now() < window._bokeh_timeout) {\n",
       "        setTimeout(run_inline_js, 100);\n",
       "      } else if (!window._bokeh_failed_load) {\n",
       "        console.log(\"Bokeh: BokehJS failed to load within specified timeout.\");\n",
       "        window._bokeh_failed_load = true;\n",
       "      } else if (force !== true) {\n",
       "        var cell = $(document.getElementById(\"3776913e-9218-4e6e-92c2-e894f054eed6\")).parents('.cell').data().cell;\n",
       "        cell.output_area.append_execute_result(NB_LOAD_WARNING)\n",
       "      }\n",
       "  \n",
       "    }\n",
       "  \n",
       "    if (window._bokeh_is_loading === 0) {\n",
       "      console.log(\"Bokeh: BokehJS loaded, going straight to plotting\");\n",
       "      run_inline_js();\n",
       "    } else {\n",
       "      load_libs(js_urls, function() {\n",
       "        console.log(\"Bokeh: BokehJS plotting callback run at\", now());\n",
       "        run_inline_js();\n",
       "      });\n",
       "    }\n",
       "  }(this));\n",
       "</script>"
      ]
     },
     "metadata": {},
     "output_type": "display_data"
    }
   ],
   "source": [
    "hist, edges = np.histogram(counts_ted_top1000_wiki, density=True, bins=100, normed=True)\n",
    "\n",
    "p = figure(tools=\"pan,wheel_zoom,reset,save\",\n",
    "           toolbar_location=\"above\",\n",
    "           title=\"Top-1000 words distribution\")\n",
    "p.quad(top=hist, bottom=0, left=edges[:-1], right=edges[1:], line_color=\"#555555\")\n",
    "show(p)"
   ]
  },
  {
   "cell_type": "markdown",
   "metadata": {},
   "source": [
    "Word2Vec model"
   ]
  },
  {
   "cell_type": "code",
   "execution_count": 33,
   "metadata": {
    "collapsed": true
   },
   "outputs": [],
   "source": [
    "model_wiki = Word2Vec(sentences_wiki_ted, min_count=10)"
   ]
  },
  {
   "cell_type": "code",
   "execution_count": 34,
   "metadata": {
    "collapsed": false
   },
   "outputs": [
    {
     "data": {
      "text/plain": [
       "48704"
      ]
     },
     "execution_count": 34,
     "metadata": {},
     "output_type": "execute_result"
    }
   ],
   "source": [
    "len(model_wiki.wv.vocab)"
   ]
  },
  {
   "cell_type": "code",
   "execution_count": 35,
   "metadata": {
    "collapsed": false
   },
   "outputs": [
    {
     "data": {
      "text/plain": [
       "[('woman', 0.7016897201538086),\n",
       " ('boy', 0.6136042475700378),\n",
       " ('person', 0.610592246055603),\n",
       " ('girl', 0.5873452425003052),\n",
       " ('soldier', 0.5726269483566284),\n",
       " ('dog', 0.545727014541626),\n",
       " ('creature', 0.5412600040435791),\n",
       " ('wizard', 0.5308260917663574),\n",
       " ('joke', 0.5185638666152954),\n",
       " ('someone', 0.5166768431663513)]"
      ]
     },
     "execution_count": 35,
     "metadata": {},
     "output_type": "execute_result"
    }
   ],
   "source": [
    "model_wiki.most_similar(\"man\")"
   ]
  },
  {
   "cell_type": "markdown",
   "metadata": {
    "deletable": true,
    "editable": true
   },
   "source": [
    "#### t-SNE visualization"
   ]
  },
  {
   "cell_type": "code",
   "execution_count": 36,
   "metadata": {
    "collapsed": true
   },
   "outputs": [],
   "source": [
    "words_top_wiki = [ v[0] for v in wordOccurence_wiki]"
   ]
  },
  {
   "cell_type": "code",
   "execution_count": 37,
   "metadata": {
    "collapsed": false,
    "deletable": true,
    "editable": true
   },
   "outputs": [],
   "source": [
    "# This assumes words_top_wiki is a list of strings, the top 1000 words\n",
    "words_top_vec_wiki = model_wiki[words_top_wiki]\n",
    "\n",
    "tsne = TSNE(n_components=2, random_state=0)\n",
    "words_top_wiki_tsne = tsne.fit_transform(words_top_vec_wiki)"
   ]
  },
  {
   "cell_type": "code",
   "execution_count": 38,
   "metadata": {
    "collapsed": false,
    "deletable": true,
    "editable": true
   },
   "outputs": [
    {
     "data": {
      "text/html": [
       "\n",
       "\n",
       "    <div class=\"bk-root\">\n",
       "        <div class=\"bk-plotdiv\" id=\"5bf4b6b8-bbb7-40cb-acd5-f0e0f4148a30\"></div>\n",
       "    </div>\n",
       "<script type=\"text/javascript\">\n",
       "  \n",
       "  (function(global) {\n",
       "    function now() {\n",
       "      return new Date();\n",
       "    }\n",
       "  \n",
       "    var force = false;\n",
       "  \n",
       "    if (typeof (window._bokeh_onload_callbacks) === \"undefined\" || force === true) {\n",
       "      window._bokeh_onload_callbacks = [];\n",
       "      window._bokeh_is_loading = undefined;\n",
       "    }\n",
       "  \n",
       "  \n",
       "    \n",
       "    if (typeof (window._bokeh_timeout) === \"undefined\" || force === true) {\n",
       "      window._bokeh_timeout = Date.now() + 0;\n",
       "      window._bokeh_failed_load = false;\n",
       "    }\n",
       "  \n",
       "    var NB_LOAD_WARNING = {'data': {'text/html':\n",
       "       \"<div style='background-color: #fdd'>\\n\"+\n",
       "       \"<p>\\n\"+\n",
       "       \"BokehJS does not appear to have successfully loaded. If loading BokehJS from CDN, this \\n\"+\n",
       "       \"may be due to a slow or bad network connection. Possible fixes:\\n\"+\n",
       "       \"</p>\\n\"+\n",
       "       \"<ul>\\n\"+\n",
       "       \"<li>re-rerun `output_notebook()` to attempt to load from CDN again, or</li>\\n\"+\n",
       "       \"<li>use INLINE resources instead, as so:</li>\\n\"+\n",
       "       \"</ul>\\n\"+\n",
       "       \"<code>\\n\"+\n",
       "       \"from bokeh.resources import INLINE\\n\"+\n",
       "       \"output_notebook(resources=INLINE)\\n\"+\n",
       "       \"</code>\\n\"+\n",
       "       \"</div>\"}};\n",
       "  \n",
       "    function display_loaded() {\n",
       "      if (window.Bokeh !== undefined) {\n",
       "        document.getElementById(\"5bf4b6b8-bbb7-40cb-acd5-f0e0f4148a30\").textContent = \"BokehJS successfully loaded.\";\n",
       "      } else if (Date.now() < window._bokeh_timeout) {\n",
       "        setTimeout(display_loaded, 100)\n",
       "      }\n",
       "    }\n",
       "  \n",
       "    function run_callbacks() {\n",
       "      window._bokeh_onload_callbacks.forEach(function(callback) { callback() });\n",
       "      delete window._bokeh_onload_callbacks\n",
       "      console.info(\"Bokeh: all callbacks have finished\");\n",
       "    }\n",
       "  \n",
       "    function load_libs(js_urls, callback) {\n",
       "      window._bokeh_onload_callbacks.push(callback);\n",
       "      if (window._bokeh_is_loading > 0) {\n",
       "        console.log(\"Bokeh: BokehJS is being loaded, scheduling callback at\", now());\n",
       "        return null;\n",
       "      }\n",
       "      if (js_urls == null || js_urls.length === 0) {\n",
       "        run_callbacks();\n",
       "        return null;\n",
       "      }\n",
       "      console.log(\"Bokeh: BokehJS not loaded, scheduling load and callback at\", now());\n",
       "      window._bokeh_is_loading = js_urls.length;\n",
       "      for (var i = 0; i < js_urls.length; i++) {\n",
       "        var url = js_urls[i];\n",
       "        var s = document.createElement('script');\n",
       "        s.src = url;\n",
       "        s.async = false;\n",
       "        s.onreadystatechange = s.onload = function() {\n",
       "          window._bokeh_is_loading--;\n",
       "          if (window._bokeh_is_loading === 0) {\n",
       "            console.log(\"Bokeh: all BokehJS libraries loaded\");\n",
       "            run_callbacks()\n",
       "          }\n",
       "        };\n",
       "        s.onerror = function() {\n",
       "          console.warn(\"failed to load library \" + url);\n",
       "        };\n",
       "        console.log(\"Bokeh: injecting script tag for BokehJS library: \", url);\n",
       "        document.getElementsByTagName(\"head\")[0].appendChild(s);\n",
       "      }\n",
       "    };var element = document.getElementById(\"5bf4b6b8-bbb7-40cb-acd5-f0e0f4148a30\");\n",
       "    if (element == null) {\n",
       "      console.log(\"Bokeh: ERROR: autoload.js configured with elementid '5bf4b6b8-bbb7-40cb-acd5-f0e0f4148a30' but no matching script tag was found. \")\n",
       "      return false;\n",
       "    }\n",
       "  \n",
       "    var js_urls = [];\n",
       "  \n",
       "    var inline_js = [\n",
       "      function(Bokeh) {\n",
       "        (function() {\n",
       "          var fn = function() {\n",
       "            var docs_json = {\"0be09c32-f02d-4080-a226-b26226259858\":{\"roots\":{\"references\":[{\"attributes\":{\"callback\":null,\"column_names\":[\"x1\",\"x2\",\"names\"],\"data\":{\"names\":[\"the\",\"of\",\"and\",\"in\",\"to\",\"a\",\"was\",\"s\",\"on\",\"as\",\"for\",\"that\",\"with\",\"by\",\"is\",\"his\",\"he\",\"at\",\"it\",\"from\",\"were\",\"an\",\"had\",\"which\",\"be\",\"this\",\"but\",\"are\",\"first\",\"not\",\"their\",\"after\",\"one\",\"her\",\"also\",\"its\",\"they\",\"two\",\"or\",\"have\",\"who\",\"been\",\"new\",\"has\",\"she\",\"when\",\"during\",\"time\",\"other\",\"would\",\"into\",\"all\",\"i\",\"more\",\"while\",\"over\",\"him\",\"game\",\"only\",\"later\",\"most\",\"up\",\"three\",\"about\",\"out\",\"between\",\"th\",\"than\",\"there\",\"some\",\"film\",\"may\",\"before\",\"year\",\"such\",\"made\",\"no\",\"season\",\"where\",\"second\",\"war\",\"years\",\"world\",\"then\",\"however\",\"both\",\"used\",\"through\",\"being\",\"them\",\"series\",\"these\",\"against\",\"song\",\"album\",\"m\",\"many\",\"team\",\"city\",\"part\",\"north\",\"became\",\"number\",\"several\",\"well\",\"including\",\"united\",\"four\",\"can\",\"early\",\"under\",\"state\",\"south\",\"day\",\"music\",\"so\",\"episode\",\"said\",\"following\",\"states\",\"known\",\"although\",\"american\",\"work\",\"did\",\"could\",\"began\",\"until\",\"released\",\"because\",\"t\",\"like\",\"high\",\"called\",\"end\",\"people\",\"since\",\"british\",\"long\",\"best\",\"around\",\"each\",\"life\",\"same\",\"september\",\"west\",\"found\",\"national\",\"if\",\"million\",\"five\",\"back\",\"another\",\"along\",\"us\",\"show\",\"any\",\"you\",\"took\",\"use\",\"off\",\"area\",\"km\",\"group\",\"final\",\"received\",\"century\",\"october\",\"school\",\"due\",\"august\",\"what\",\"will\",\"john\",\"government\",\"line\",\"east\",\"june\",\"system\",\"march\",\"third\",\"single\",\"july\",\"down\",\"november\",\"large\",\"home\",\"games\",\"general\",\"much\",\"april\",\"major\",\"set\",\"left\",\"december\",\"based\",\"family\",\"york\",\"company\",\"house\",\"army\",\"place\",\"played\",\"just\",\"road\",\"history\",\"name\",\"six\",\"band\",\"character\",\"king\",\"we\",\"included\",\"january\",\"wrote\",\"now\",\"won\",\"according\",\"led\",\"death\",\"men\",\"river\",\"within\",\"described\",\"last\",\"own\",\"those\",\"times\",\"next\",\"video\",\"battle\",\"release\",\"main\",\"near\",\"st\",\"d\",\"original\",\"air\",\"record\",\"force\",\"named\",\"league\",\"still\",\"very\",\"way\",\"species\",\"make\",\"de\",\"late\",\"public\",\"top\",\"ship\",\"man\",\"great\",\"storm\",\"u\",\"even\",\"production\",\"old\",\"route\",\"small\",\"february\",\"though\",\"club\",\"again\",\"days\",\"built\",\"book\",\"held\",\"do\",\"play\",\"among\",\"french\",\"side\",\"further\",\"service\",\"university\",\"having\",\"members\",\"german\",\"b\",\"role\",\"story\",\"point\",\"white\",\"power\",\"match\",\"player\",\"division\",\"h\",\"order\",\"often\",\"career\",\"continued\",\"former\",\"water\",\"local\",\"came\",\"black\",\"despite\",\"without\",\"party\",\"park\",\"considered\",\"england\",\"town\",\"island\",\"development\",\"take\",\"few\",\"period\",\"half\",\"c\",\"support\",\"form\",\"military\",\"songs\",\"court\",\"moved\",\"county\",\"tropical\",\"version\",\"written\",\"lost\",\"president\",\"become\",\"building\",\"ii\",\"english\",\"different\",\"re\",\"given\",\"forces\",\"london\",\"international\",\"little\",\"performance\",\"country\",\"track\",\"royal\",\"n\",\"returned\",\"lead\",\"gave\",\"short\",\"attack\",\"tour\",\"my\",\"using\",\"similar\",\"went\",\"church\",\"class\",\"street\",\"never\",\"western\",\"position\",\"television\",\"published\",\"good\",\"stated\",\"run\",\"per\",\"making\",\"highway\",\"live\",\"produced\",\"children\",\"father\",\"aircraft\",\"recorded\",\"week\",\"how\",\"star\",\"control\",\"ships\",\"total\",\"women\",\"fire\",\"throughout\",\"include\",\"less\",\"upon\",\"me\",\"once\",\"australia\",\"players\",\"himself\",\"love\",\"title\",\"land\",\"right\",\"characters\",\"head\",\"instead\",\"age\",\"rock\",\"design\",\"light\",\"away\",\"ten\",\"writing\",\"months\",\"central\",\"political\",\"station\",\"across\",\"previous\",\"result\",\"developed\",\"law\",\"remained\",\"seven\",\"died\",\"r\",\"sea\",\"young\",\"red\",\"southern\",\"eventually\",\"return\",\"ft\",\"night\",\"e\",\"too\",\"low\",\"eight\",\"james\",\"style\",\"field\",\"reported\",\"various\",\"noted\",\"center\",\"son\",\"areas\",\"america\",\"announced\",\"william\",\"hurricane\",\"created\",\"miles\",\"award\",\"win\",\"seen\",\"felt\",\"japanese\",\"construction\",\"race\",\"office\",\"served\",\"member\",\"should\",\"reached\",\"followed\",\"act\",\"college\",\"northern\",\"full\",\"killed\",\"together\",\"sent\",\"works\",\"level\",\"range\",\"born\",\"campaign\",\"performed\",\"taken\",\"established\",\"body\",\"football\",\"mm\",\"action\",\"able\",\"points\",\"thought\",\"others\",\"appeared\",\"common\",\"originally\",\"bridge\",\"chart\",\"located\",\"modern\",\"australian\",\"success\",\"critics\",\"playing\",\"caused\",\"get\",\"addition\",\"post\",\"project\",\"george\",\"stage\",\"started\",\"special\",\"site\",\"present\",\"features\",\"rather\",\"damage\",\"f\",\"every\",\"front\",\"feet\",\"strong\",\"heavy\",\"director\",\"behind\",\"decided\",\"completed\",\"added\",\"see\",\"population\",\"sold\",\"fourth\",\"formed\",\"non\",\"go\",\"close\",\"popular\",\"command\",\"championship\",\"fleet\",\"important\",\"open\",\"o\",\"region\",\"initially\",\"guns\",\"weeks\",\"ground\",\"david\",\"saw\",\"almost\",\"eastern\",\"art\",\"coast\",\"soon\",\"free\",\"awards\",\"mother\",\"kingdom\",\"opened\",\"leading\",\"case\",\"scene\",\"working\",\"michael\",\"towards\",\"help\",\"union\",\"hall\",\"l\",\"event\",\"worked\",\"wanted\",\"brought\",\"france\",\"scored\",\"training\",\"mi\",\"recording\",\"hit\",\"ever\",\"records\",\"sound\",\"troops\",\"does\",\"featured\",\"least\",\"allowed\",\"wife\",\"events\",\"average\",\"far\",\"placed\",\"henry\",\"provided\",\"studio\",\"navy\",\"either\",\"put\",\"runs\",\"victory\",\"washington\",\"generally\",\"cup\",\"magazine\",\"hours\",\"designed\",\"example\",\"joined\",\"human\",\"list\",\"opening\",\"mid\",\"believed\",\"europe\",\"summer\",\"al\",\"start\",\"council\",\"media\",\"involved\",\"japan\",\"robert\",\"squadron\",\"european\",\"official\",\"replaced\",\"co\",\"saying\",\"finished\",\"operation\",\"minutes\",\"base\",\"forced\",\"nine\",\"successful\",\"association\",\"police\",\"rest\",\"society\",\"brown\",\"test\",\"beginning\",\"earlier\",\"possible\",\"research\",\"met\",\"x\",\"available\",\"month\",\"come\",\"radio\",\"particularly\",\"shot\",\"process\",\"highest\",\"cast\",\"crew\",\"real\",\"big\",\"review\",\"change\",\"taking\",\"must\",\"thus\",\"mph\",\"better\",\"charles\",\"significant\",\"largest\",\"turned\",\"ended\",\"films\",\"lower\",\"stone\",\"business\",\"praised\",\"future\",\"section\",\"move\",\"passed\",\"captain\",\"middle\",\"additional\",\"reviews\",\"going\",\"increased\",\"canada\",\"goal\",\"chief\",\"community\",\"relationship\",\"san\",\"above\",\"social\",\"program\",\"ordered\",\"space\",\"winds\",\"units\",\"staff\",\"appearance\",\"gold\",\"outside\",\"attempt\",\"signed\",\"positive\",\"california\",\"told\",\"round\",\"thomas\",\"don\",\"enough\",\"brother\",\"board\",\"spent\",\"hill\",\"india\",\"plan\",\"failed\",\"elements\",\"parts\",\"castle\",\"groups\",\"cross\",\"rights\",\"female\",\"previously\",\"critical\",\"personal\",\"v\",\"gun\",\"g\",\"hand\",\"committee\",\"interest\",\"prior\",\"reception\",\"term\",\"directed\",\"study\",\"introduced\",\"find\",\"money\",\"give\",\"entire\",\"paul\",\"infantry\",\"overall\",\"district\",\"required\",\"news\",\"lake\",\"asked\",\"cover\",\"election\",\"whose\",\"musical\",\"itself\",\"complete\",\"type\",\"germany\",\"claimed\",\"loss\",\"grand\",\"quickly\",\"evidence\",\"uk\",\"room\",\"background\",\"port\",\"square\",\"smith\",\"usually\",\"lines\",\"bill\",\"green\",\"anti\",\"our\",\"students\",\"speed\",\"past\",\"novel\",\"press\",\"governor\",\"already\",\"surface\",\"especially\",\"indian\",\"sometimes\",\"turn\",\"services\",\"plot\",\"idea\",\"education\",\"battalion\",\"person\",\"food\",\"score\",\"minister\",\"issue\",\"carried\",\"structure\",\"arrived\",\"debut\",\"woman\",\"science\",\"whom\",\"mark\",\"response\",\"stars\",\"shows\",\"earth\",\"god\",\"decision\",\"bay\",\"episodes\",\"blue\",\"fifth\",\"larger\",\"department\",\"k\",\"writer\",\"flight\",\"limited\",\"teams\",\"voice\",\"effects\",\"los\",\"movement\",\"estimated\",\"living\",\"la\",\"richard\",\"queen\",\"p\",\"length\",\"commercial\",\"cut\",\"village\",\"material\",\"provide\",\"changes\",\"islands\",\"commander\",\"appointed\",\"becoming\",\"centre\",\"destroyed\",\"defeated\",\"peter\",\"shortly\",\"latter\",\"pressure\",\"today\",\"virginia\",\"britain\",\"industry\",\"influence\",\"running\",\"ny\",\"proposed\",\"nearly\",\"pop\",\"operations\",\"civil\",\"empire\",\"remaining\",\"depression\",\"percent\",\"car\",\"approximately\",\"agreed\",\"compared\",\"daughter\",\"self\",\"lack\",\"fans\",\"dark\",\"scenes\",\"experience\",\"leaving\",\"entered\",\"winning\",\"suggested\",\"date\",\"child\",\"network\",\"tracks\",\"nature\",\"create\",\"higher\",\"view\",\"course\",\"leader\",\"subsequently\",\"face\",\"might\",\"wide\",\"spanish\",\"intended\",\"naval\",\"size\",\"manager\",\"report\",\"trade\",\"supported\",\"finally\",\"brigade\",\"fact\",\"hot\",\"soviet\",\"associated\",\"chicago\",\"plans\",\"regular\",\"current\",\"awarded\",\"officers\",\"cm\",\"contract\",\"buildings\",\"jackson\",\"married\",\"immediately\",\"producer\",\"railway\",\"cost\",\"natural\",\"professional\",\"nd\",\"health\",\"planned\",\"private\",\"longer\",\"initial\",\"feature\",\"language\",\"your\",\"soldiers\",\"done\",\"related\",\"edward\",\"books\",\"effect\",\"friends\",\"helped\",\"themselves\",\"pacific\",\"something\",\"johnson\",\"issued\",\"whether\",\"probably\",\"fort\",\"extended\",\"federal\",\"status\",\"j\",\"appear\",\"likely\",\"key\",\"dead\",\"billboard\",\"officer\",\"information\",\"changed\",\"museum\",\"corps\",\"guitar\",\"mostly\",\"difficult\",\"upper\",\"minor\",\"friend\",\"yet\",\"problems\",\"remains\",\"captured\",\"chinese\",\"lyrics\",\"singles\",\"got\",\"inspired\",\"always\",\"ball\",\"lord\",\"florida\",\"copies\",\"countries\",\"numerous\",\"moving\",\"regiment\",\"pass\",\"forward\",\"really\",\"keep\",\"ran\",\"dance\",\"conference\",\"edition\",\"majority\",\"albums\",\"terms\",\"cause\",\"christian\",\"includes\",\"meeting\",\"via\",\"increase\",\"impact\",\"winter\",\"broadcast\",\"texas\"],\"x1\":{\"__ndarray__\":\"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\",\"dtype\":\"float64\",\"shape\":[1000]},\"x2\":{\"__ndarray__\":\"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\",\"dtype\":\"float64\",\"shape\":[1000]}}},\"id\":\"6f74c261-d2c4-489a-8a84-278649e977b5\",\"type\":\"ColumnDataSource\"},{\"attributes\":{},\"id\":\"91e4d52a-9239-4e75-aba0-f73b5f45f467\",\"type\":\"BasicTickFormatter\"},{\"attributes\":{\"plot\":null,\"text\":\"word2vec T-SNE for most common words\"},\"id\":\"4b0dea91-b87d-458c-92e7-d9864be8c85d\",\"type\":\"Title\"},{\"attributes\":{\"callback\":null},\"id\":\"620a7544-ae8d-4071-988d-f59877beccbf\",\"type\":\"DataRange1d\"},{\"attributes\":{},\"id\":\"184d1bef-a743-46c1-af40-496e94e451db\",\"type\":\"ToolEvents\"},{\"attributes\":{},\"id\":\"ea62d816-d228-48fe-9230-ba80f292aa9a\",\"type\":\"BasicTickFormatter\"},{\"attributes\":{\"data_source\":{\"id\":\"6f74c261-d2c4-489a-8a84-278649e977b5\",\"type\":\"ColumnDataSource\"},\"glyph\":{\"id\":\"3590cdc4-e08d-4c29-babf-51fe5db9bd17\",\"type\":\"Circle\"},\"hover_glyph\":null,\"nonselection_glyph\":{\"id\":\"5279cac6-e291-400e-a0c6-cbeb5ef70c3f\",\"type\":\"Circle\"},\"selection_glyph\":null},\"id\":\"cb22d0a7-3aa7-45c7-b22a-b20fdd892cad\",\"type\":\"GlyphRenderer\"},{\"attributes\":{\"active_drag\":\"auto\",\"active_scroll\":\"auto\",\"active_tap\":\"auto\",\"tools\":[{\"id\":\"ca84b201-e5be-4b22-ad92-0abfb2d7789d\",\"type\":\"PanTool\"},{\"id\":\"c235d714-cb92-4efb-8e16-23aa0eb1678f\",\"type\":\"WheelZoomTool\"},{\"id\":\"8329323d-5edb-4e39-a4c0-1efcabc982e7\",\"type\":\"ResetTool\"},{\"id\":\"d719469b-40b4-4ff1-8954-e8076e603ef0\",\"type\":\"SaveTool\"}]},\"id\":\"84c63894-b9f8-4763-8bfd-23a359f203f7\",\"type\":\"Toolbar\"},{\"attributes\":{\"formatter\":{\"id\":\"ea62d816-d228-48fe-9230-ba80f292aa9a\",\"type\":\"BasicTickFormatter\"},\"plot\":{\"id\":\"e9222df0-3b53-41e3-a3db-2f098fac44b6\",\"subtype\":\"Figure\",\"type\":\"Plot\"},\"ticker\":{\"id\":\"0891429c-1d95-43e1-9c7b-2899772c4070\",\"type\":\"BasicTicker\"}},\"id\":\"97826957-ba9f-45f3-ae22-e9d7c1afdbc1\",\"type\":\"LinearAxis\"},{\"attributes\":{\"callback\":null},\"id\":\"6fac398e-f745-4fd9-86c3-06e77cdcdbe4\",\"type\":\"DataRange1d\"},{\"attributes\":{},\"id\":\"0891429c-1d95-43e1-9c7b-2899772c4070\",\"type\":\"BasicTicker\"},{\"attributes\":{\"plot\":{\"id\":\"e9222df0-3b53-41e3-a3db-2f098fac44b6\",\"subtype\":\"Figure\",\"type\":\"Plot\"},\"ticker\":{\"id\":\"0891429c-1d95-43e1-9c7b-2899772c4070\",\"type\":\"BasicTicker\"}},\"id\":\"b483dda0-daaf-4168-bb63-1bc323c8c592\",\"type\":\"Grid\"},{\"attributes\":{\"formatter\":{\"id\":\"91e4d52a-9239-4e75-aba0-f73b5f45f467\",\"type\":\"BasicTickFormatter\"},\"plot\":{\"id\":\"e9222df0-3b53-41e3-a3db-2f098fac44b6\",\"subtype\":\"Figure\",\"type\":\"Plot\"},\"ticker\":{\"id\":\"2828223d-a9e3-4b31-b3bf-8b02006d2e8a\",\"type\":\"BasicTicker\"}},\"id\":\"af005a08-2a79-4b6c-b38e-dd9a184f89a7\",\"type\":\"LinearAxis\"},{\"attributes\":{},\"id\":\"2828223d-a9e3-4b31-b3bf-8b02006d2e8a\",\"type\":\"BasicTicker\"},{\"attributes\":{\"dimension\":1,\"plot\":{\"id\":\"e9222df0-3b53-41e3-a3db-2f098fac44b6\",\"subtype\":\"Figure\",\"type\":\"Plot\"},\"ticker\":{\"id\":\"2828223d-a9e3-4b31-b3bf-8b02006d2e8a\",\"type\":\"BasicTicker\"}},\"id\":\"1faf48da-bdbd-4b14-bbbb-71d8a2322ec8\",\"type\":\"Grid\"},{\"attributes\":{\"fill_alpha\":{\"value\":0.1},\"fill_color\":{\"value\":\"#1f77b4\"},\"line_alpha\":{\"value\":0.1},\"line_color\":{\"value\":\"#1f77b4\"},\"size\":{\"units\":\"screen\",\"value\":8},\"x\":{\"field\":\"x1\"},\"y\":{\"field\":\"x2\"}},\"id\":\"5279cac6-e291-400e-a0c6-cbeb5ef70c3f\",\"type\":\"Circle\"},{\"attributes\":{\"fill_color\":{\"value\":\"#1f77b4\"},\"line_color\":{\"value\":\"#1f77b4\"},\"size\":{\"units\":\"screen\",\"value\":8},\"x\":{\"field\":\"x1\"},\"y\":{\"field\":\"x2\"}},\"id\":\"3590cdc4-e08d-4c29-babf-51fe5db9bd17\",\"type\":\"Circle\"},{\"attributes\":{\"plot\":{\"id\":\"e9222df0-3b53-41e3-a3db-2f098fac44b6\",\"subtype\":\"Figure\",\"type\":\"Plot\"}},\"id\":\"ca84b201-e5be-4b22-ad92-0abfb2d7789d\",\"type\":\"PanTool\"},{\"attributes\":{\"plot\":{\"id\":\"e9222df0-3b53-41e3-a3db-2f098fac44b6\",\"subtype\":\"Figure\",\"type\":\"Plot\"}},\"id\":\"c235d714-cb92-4efb-8e16-23aa0eb1678f\",\"type\":\"WheelZoomTool\"},{\"attributes\":{\"plot\":{\"id\":\"e9222df0-3b53-41e3-a3db-2f098fac44b6\",\"subtype\":\"Figure\",\"type\":\"Plot\"}},\"id\":\"8329323d-5edb-4e39-a4c0-1efcabc982e7\",\"type\":\"ResetTool\"},{\"attributes\":{\"plot\":{\"id\":\"e9222df0-3b53-41e3-a3db-2f098fac44b6\",\"subtype\":\"Figure\",\"type\":\"Plot\"}},\"id\":\"d719469b-40b4-4ff1-8954-e8076e603ef0\",\"type\":\"SaveTool\"},{\"attributes\":{\"plot\":{\"id\":\"e9222df0-3b53-41e3-a3db-2f098fac44b6\",\"subtype\":\"Figure\",\"type\":\"Plot\"},\"source\":{\"id\":\"6f74c261-d2c4-489a-8a84-278649e977b5\",\"type\":\"ColumnDataSource\"},\"text\":{\"field\":\"names\"},\"text_align\":\"center\",\"text_color\":{\"value\":\"#555555\"},\"text_font_size\":{\"value\":\"8pt\"},\"x\":{\"field\":\"x1\"},\"y\":{\"field\":\"x2\"},\"y_offset\":{\"value\":6}},\"id\":\"3daad2f3-a97c-4aa9-b8a9-a55fce15ace3\",\"type\":\"LabelSet\"},{\"attributes\":{\"below\":[{\"id\":\"97826957-ba9f-45f3-ae22-e9d7c1afdbc1\",\"type\":\"LinearAxis\"}],\"left\":[{\"id\":\"af005a08-2a79-4b6c-b38e-dd9a184f89a7\",\"type\":\"LinearAxis\"}],\"renderers\":[{\"id\":\"97826957-ba9f-45f3-ae22-e9d7c1afdbc1\",\"type\":\"LinearAxis\"},{\"id\":\"b483dda0-daaf-4168-bb63-1bc323c8c592\",\"type\":\"Grid\"},{\"id\":\"af005a08-2a79-4b6c-b38e-dd9a184f89a7\",\"type\":\"LinearAxis\"},{\"id\":\"1faf48da-bdbd-4b14-bbbb-71d8a2322ec8\",\"type\":\"Grid\"},{\"id\":\"cb22d0a7-3aa7-45c7-b22a-b20fdd892cad\",\"type\":\"GlyphRenderer\"},{\"id\":\"3daad2f3-a97c-4aa9-b8a9-a55fce15ace3\",\"type\":\"LabelSet\"}],\"title\":{\"id\":\"4b0dea91-b87d-458c-92e7-d9864be8c85d\",\"type\":\"Title\"},\"tool_events\":{\"id\":\"184d1bef-a743-46c1-af40-496e94e451db\",\"type\":\"ToolEvents\"},\"toolbar\":{\"id\":\"84c63894-b9f8-4763-8bfd-23a359f203f7\",\"type\":\"Toolbar\"},\"toolbar_location\":\"above\",\"x_range\":{\"id\":\"620a7544-ae8d-4071-988d-f59877beccbf\",\"type\":\"DataRange1d\"},\"y_range\":{\"id\":\"6fac398e-f745-4fd9-86c3-06e77cdcdbe4\",\"type\":\"DataRange1d\"}},\"id\":\"e9222df0-3b53-41e3-a3db-2f098fac44b6\",\"subtype\":\"Figure\",\"type\":\"Plot\"}],\"root_ids\":[\"e9222df0-3b53-41e3-a3db-2f098fac44b6\"]},\"title\":\"Bokeh Application\",\"version\":\"0.12.4\"}};\n",
       "            var render_items = [{\"docid\":\"0be09c32-f02d-4080-a226-b26226259858\",\"elementid\":\"5bf4b6b8-bbb7-40cb-acd5-f0e0f4148a30\",\"modelid\":\"e9222df0-3b53-41e3-a3db-2f098fac44b6\"}];\n",
       "            \n",
       "            Bokeh.embed.embed_items(docs_json, render_items);\n",
       "          };\n",
       "          if (document.readyState != \"loading\") fn();\n",
       "          else document.addEventListener(\"DOMContentLoaded\", fn);\n",
       "        })();\n",
       "      },\n",
       "      function(Bokeh) {\n",
       "      }\n",
       "    ];\n",
       "  \n",
       "    function run_inline_js() {\n",
       "      \n",
       "      if ((window.Bokeh !== undefined) || (force === true)) {\n",
       "        for (var i = 0; i < inline_js.length; i++) {\n",
       "          inline_js[i](window.Bokeh);\n",
       "        }if (force === true) {\n",
       "          display_loaded();\n",
       "        }} else if (Date.now() < window._bokeh_timeout) {\n",
       "        setTimeout(run_inline_js, 100);\n",
       "      } else if (!window._bokeh_failed_load) {\n",
       "        console.log(\"Bokeh: BokehJS failed to load within specified timeout.\");\n",
       "        window._bokeh_failed_load = true;\n",
       "      } else if (force !== true) {\n",
       "        var cell = $(document.getElementById(\"5bf4b6b8-bbb7-40cb-acd5-f0e0f4148a30\")).parents('.cell').data().cell;\n",
       "        cell.output_area.append_execute_result(NB_LOAD_WARNING)\n",
       "      }\n",
       "  \n",
       "    }\n",
       "  \n",
       "    if (window._bokeh_is_loading === 0) {\n",
       "      console.log(\"Bokeh: BokehJS loaded, going straight to plotting\");\n",
       "      run_inline_js();\n",
       "    } else {\n",
       "      load_libs(js_urls, function() {\n",
       "        console.log(\"Bokeh: BokehJS plotting callback run at\", now());\n",
       "        run_inline_js();\n",
       "      });\n",
       "    }\n",
       "  }(this));\n",
       "</script>"
      ]
     },
     "metadata": {},
     "output_type": "display_data"
    }
   ],
   "source": [
    "p = figure(tools=\"pan,wheel_zoom,reset,save\",\n",
    "           toolbar_location=\"above\",\n",
    "           title=\"word2vec T-SNE for most common words\")\n",
    "\n",
    "source = ColumnDataSource(data=dict(x1=words_top_wiki_tsne[:,0],\n",
    "                                    x2=words_top_wiki_tsne[:,1],\n",
    "                                    names=words_top_wiki))\n",
    "\n",
    "p.scatter(x=\"x1\", y=\"x2\", size=8, source=source)\n",
    "\n",
    "labels = LabelSet(x=\"x1\", y=\"x2\", text=\"names\", y_offset=6,\n",
    "                  text_font_size=\"8pt\", text_color=\"#555555\",\n",
    "                  source=source, text_align='center')\n",
    "p.add_layout(labels)\n",
    "\n",
    "show(p)"
   ]
  },
  {
   "cell_type": "code",
   "execution_count": null,
   "metadata": {
    "collapsed": true
   },
   "outputs": [],
   "source": []
  }
 ],
 "metadata": {
  "anaconda-cloud": {},
  "kernelspec": {
   "display_name": "Python 3",
   "language": "python",
   "name": "python3"
  },
  "language_info": {
   "codemirror_mode": {
    "name": "ipython",
    "version": 3
   },
   "file_extension": ".py",
   "mimetype": "text/x-python",
   "name": "python",
   "nbconvert_exporter": "python",
   "pygments_lexer": "ipython3",
   "version": "3.6.0"
  }
 },
 "nbformat": 4,
 "nbformat_minor": 0
}
